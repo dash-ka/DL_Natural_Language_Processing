{
 "cells": [
  {
   "cell_type": "markdown",
   "metadata": {},
   "source": [
    "# Regular expressions\n",
    "\n",
    "Regular expressions are a language for matching text patterns. The Python \"re\" module provides support for regular expressions.\n",
    "\n",
    "With methods available in ``re`` module, we can define a pattern and search for it in a text. A pattern is a string of charactes and symbols."
   ]
  },
  {
   "cell_type": "markdown",
   "metadata": {},
   "source": [
    "Adapted from https://developers.google.com/edu/python/regular-expressions"
   ]
  },
  {
   "cell_type": "markdown",
   "metadata": {},
   "source": [
    "``re.search(pattern, str)``\n",
    "\n",
    "The ``re.search()`` method takes a regular expression pattern and a string and searches for that pattern within the string. If the search is successful, the ``.search()`` method returns a match object or None otherwise.\n",
    "The search proceeds through the string from start to end, stopping at the first match found.\n",
    "The code ``match = re.search(pat, str)`` stores the search result in a variable named ``match``.\n",
    "If the search succeeded, we can call``.group()`` method on the match object to retrieve the matching text.\n",
    "If the search did not succeed, there is no matching text to retrieve since the match object is None."
   ]
  },
  {
   "cell_type": "markdown",
   "metadata": {},
   "source": [
    "#### Basic regex patterns:\n",
    "The symbols used in regular expressions devide in ordinary characters that match themselves exactly, like ``a, 9, Z``,\n",
    "and special symbols or meta/characters that bear special meaning and do not match themselves: ``. ^ $ * + ? { [ ] \\ | ( )``\n",
    "\n",
    "+ ``.`` (a period) -- matches any single character except newline ``\\n``. With ``re.DOTALL`` option we can match newline as well.\n",
    "\n",
    "+ ``\\w`` -- (lowercase w) matches a \"word\" character: a letter or digit or underscore ``[a-zA-Z0-9_]``. Note that  ``\\w`` only matches a single word char, not a whole word. ``\\W`` (upper case W) matches any non-word character.\n",
    "+ ``\\b`` -- stands for boundary between word and non-word\n",
    "+ ``\\s`` -- (lowercase s) matches a single whitespace character -- space, newline, return, tab, form ``[\\n\\r\\t\\f]``. ``\\S`` (upper case S) matches any non-whitespace character.\n",
    "+ ``\\t``, ``\\n``, ``\\r`` -- tab, newline, return\n",
    "+ ``\\d`` -- matches a decimal digit [0-9] \n",
    "+ ``^`` = start, ``$`` = end -- match the start or end of the string. With ``re.MULTILINE`` option will also match the end of the newline.\n",
    "+ ``\\`` -- inhibit the \"specialness\" of a character. So, for example, use ``\\.`` to match a period or ``\\\\`` to match a slash. "
   ]
  },
  {
   "cell_type": "markdown",
   "metadata": {},
   "source": [
    "#### Leftmost & Largest\n",
    "The search method finds the first leftmost match for the pattern, and goes right as far as possible trying to use up as much of the string as possible making sure to satisfy the pattern. -- i.e. ``+`` and ``*`` go as far as possible (the ``+`` and ``*`` are said to be \"greedy\")."
   ]
  },
  {
   "cell_type": "markdown",
   "metadata": {},
   "source": [
    "#### Repetitions\n",
    "\n",
    "``+ * ?`` are meta-characters used to specify repetition in the pattern.\n",
    "* ``+`` -- 1 or more occurrences of the pattern to its left, e.g. ``i+`` = one or more i's\n",
    "* ``*`` -- 0 or more occurrences of the pattern to its left\n",
    "* ``?`` -- match 0 or 1 occurrences of the pattern to its left"
   ]
  },
  {
   "cell_type": "code",
   "execution_count": 212,
   "metadata": {},
   "outputs": [
    {
     "name": "stdout",
     "output_type": "stream",
     "text": [
      "<div> a paragraph </div>\n"
     ]
    }
   ],
   "source": [
    "import re\n",
    "match = re.search(r\"<.+>\", r\"<div> a paragraph </div>\")\n",
    "if match:\n",
    "    print(match.group())"
   ]
  },
  {
   "cell_type": "markdown",
   "metadata": {},
   "source": [
    "``*`` and ``+`` are called *greedy* because they try to include as much of the string as possible. \n",
    "To make them *non gready* add a ``?`` at the end, such as ``.*?`` or ``.+?``. Now they stop as soon as they can."
   ]
  },
  {
   "cell_type": "code",
   "execution_count": 213,
   "metadata": {},
   "outputs": [
    {
     "name": "stdout",
     "output_type": "stream",
     "text": [
      "<div>\n"
     ]
    }
   ],
   "source": [
    "match = re.search(r\"<.+?>\", r\"<div> a paragraph </div>\")\n",
    "if match:\n",
    "    print(match.group())"
   ]
  },
  {
   "cell_type": "markdown",
   "metadata": {},
   "source": [
    "__Note__: The ``r`` at the start of the pattern string designates a python \"raw\" string which passes through backslashes without change which is very handy for regular expressions."
   ]
  },
  {
   "cell_type": "code",
   "execution_count": 205,
   "metadata": {},
   "outputs": [
    {
     "data": {
      "text/plain": [
       "'bar'"
      ]
     },
     "execution_count": 205,
     "metadata": {},
     "output_type": "execute_result"
    }
   ],
   "source": [
    "## @+ = one or more i's, as many as possible.\n",
    "match = re.search(r'p@+', 'p@@@g') # found, match.group() == \"piii\"\n",
    "\n",
    "## Finds the first/leftmost solution, and within it drives the +\n",
    "## as far as possible (aka 'leftmost and largest').\n",
    "## In this example, note that it does not get to the second set of @'s.\n",
    "match = re.search(r'@+', 'p@@g@@@') # found, match.group() == \"@@\"\n",
    "\n",
    "## \\s* = zero or more whitespace chars\n",
    "## Here look for 3 digits, possibly separated by whitespace.\n",
    "match = re.search(r'\\d\\s*\\d\\s*\\d', 'xx1 2   3xx') # found, match.group() == \"1 2   3\"\n",
    "match = re.search(r'\\d\\s*\\d\\s*\\d', 'xx12  3xx') # found, match.group() == \"12  3\"\n",
    "match = re.search(r'\\d\\s*\\d\\s*\\d', 'xx123xx') # found, match.group() == \"123\"\n",
    "\n",
    "## ^ = matches the start of string, so this fails:\n",
    "match = re.search(r'^b\\w+', 'foobar') # not found, match == None\n",
    "## but without the ^ it succeeds:\n",
    "match = re.search(r'b\\w+', 'foobar') # found, match.group() == \"bar\"\n",
    "match.group() "
   ]
  },
  {
   "cell_type": "markdown",
   "metadata": {},
   "source": [
    "#### Square Brackets\n",
    "Square brackets is a meta-character used to indicate a set of characters to match. So ``[abc]`` matches either ```a``` or ```b``` or ``c``. \n",
    "* Any character that appears inside square brackets will be matched.\n",
    "* Special characters, such as ``. () * ? ^`` etc. lose their special meaning and are matched literally.\n",
    "* **Exception:** ``\\w \\d \\s`` work as usual inside ``[]``. \n",
    "\n",
    "* ``-`` (dash symbol) is used to indicate a range of characters to match, like ``[a-s0-4]`` will match all letters and numbers in the specified range.  To match the ``-`` literally place it at the end of the set.\n",
    "\n",
    "* ``^`` (up-hat) at the beginning of a square brackets creates a complementary set. That is, any character **but** those appearing inside ``[]`` will be matched."
   ]
  },
  {
   "cell_type": "code",
   "execution_count": 204,
   "metadata": {},
   "outputs": [
    {
     "name": "stdout",
     "output_type": "stream",
     "text": [
      "alice-b@google.com\n"
     ]
    }
   ],
   "source": [
    "match = re.search(r'[\\w.-]+@[\\w.-]+', 'email address: alice-b@google.com')\n",
    "if match:\n",
    "    print(match.group())  "
   ]
  },
  {
   "cell_type": "markdown",
   "metadata": {},
   "source": [
    "### Pattern extraction with grouping\n",
    "\n",
    "It may happen that we are looking for some pattern in a text, but we are interested in a specific portion of the matched text. We can use parenthesis ``()`` to wrap parts of the regular expression we want to extract. The parenthesis will not be matched literally, instead they group the match text. We can create several groups in the pattern, and extract any of them using ordinal numbers. Via ``.group()`` method of a regular expression we can pick out parts of the matching text. On a successful search, match.group(1) is the match text corresponding to the 1st left parenthesis, and match.group(2) is the text corresponding to the 2nd left parenthesis. The plain match.group() is the whole match text as usual.\n",
    "\n",
    "\n",
    " Suppose, given an email we want to extract the username and host separately. To do this, add parenthesis ( ) around the username and host in the pattern, like this: ``r'([\\w.-]+)@([\\w.-]+)``. In this case, the parenthesis do not change what the pattern will match, instead they establish logical \"groups\" inside of the match text. "
   ]
  },
  {
   "cell_type": "code",
   "execution_count": 208,
   "metadata": {},
   "outputs": [
    {
     "name": "stdout",
     "output_type": "stream",
     "text": [
      "alice3b@google.com\n",
      "alice3b\n",
      "google.com\n"
     ]
    }
   ],
   "source": [
    "str = 'purple alice3b@google.com monkey dishwasher'\n",
    "match = re.search(r'([\\w.-]+)@([\\w.-]+)', str)\n",
    "if match:\n",
    "    print(match.group())   ## 'alice3b@google.com' (the whole match)\n",
    "    print(match.group(1))  ## 'alice3b' (the username, group 1)\n",
    "    print(match.group(2))  ## 'google.com' (the host, group 2)"
   ]
  },
  {
   "cell_type": "markdown",
   "metadata": {},
   "source": [
    "``re.findall(pattern, str)``\n",
    "\n",
    "While ``search()`` finds the first match for a pattern in a string, ``findall()`` finds *all* the matches and returns them as a list of strings. The parenthesis ``()`` group mechanism can be combined with ``findall()``. If the pattern includes 2 or more parenthesis groups, then instead of returning a list of strings, ``findall()`` returns a list of *tuples*.\n",
    "\n",
    "``(?: )`` indicates a parenthesis group in the pattern which we do not want to extract. The group with ``?:`` will not appear in the result."
   ]
  },
  {
   "cell_type": "code",
   "execution_count": 211,
   "metadata": {},
   "outputs": [
    {
     "name": "stdout",
     "output_type": "stream",
     "text": [
      "['alice', 'bob']\n"
     ]
    }
   ],
   "source": [
    "## Suppose we have a text with many email addresses\n",
    "str = 'There are two email adresses: alice@google.com and bob@abc.com .'\n",
    "\n",
    "## Here re.findall() returns a list of all the found email strings\n",
    "emails = re.findall(r'([\\w\\.-]+)@(?:[\\w\\.-]+)', str) \n",
    "print(emails)"
   ]
  },
  {
   "cell_type": "markdown",
   "metadata": {},
   "source": [
    "#### Options\n",
    "The ``re`` functions take options to modify the behavior of the pattern match. The option flag is added as an extra argument to the ``search()`` or ``findall()``, e.g. ``re.search(pattern, str, re.IGNORECASE)``.\n",
    "\n",
    "* ``re.IGNORECASE`` -- ignore upper/lowercase differences for matching, so 'a' matches both 'a' and 'A'.\n",
    "* ``re.DOTALL`` -- allow dot (.) to match newline -- normally it matches anything but newline. \n",
    "* ``re.MULTILINE`` -- Within a string made of many lines, this option will allows ``^`` and ``$`` symbols to match the start and end of each line. Normally ``^`` and ``$`` would just match the start and end of the whole string."
   ]
  },
  {
   "cell_type": "code",
   "execution_count": 214,
   "metadata": {},
   "outputs": [
    {
     "name": "stdout",
     "output_type": "stream",
     "text": [
      "['pretty']\n",
      "['speechy', 'pretty']\n"
     ]
    }
   ],
   "source": [
    "print(re.findall(r\"\\w+y$\", \"wordy and the speechy\\n are tyed pretty\"))\n",
    "print(re.findall(r\"\\w+y$\", \"wordy and the speechy\\n are tyed pretty\", re.MULTILINE))"
   ]
  },
  {
   "cell_type": "code",
   "execution_count": null,
   "metadata": {},
   "outputs": [],
   "source": []
  },
  {
   "cell_type": "code",
   "execution_count": null,
   "metadata": {},
   "outputs": [],
   "source": []
  },
  {
   "cell_type": "markdown",
   "metadata": {},
   "source": [
    "## Scraping Baby names with REGEX\n",
    "\n",
    "The Social Security administration keeps yearly record of the most popular names for babies born that year in the USA (see [social security baby names](https://www.ssa.gov/OACT/babynames/)).\n",
    "\n",
    "The files baby1990.html baby1992.html ... contain raw html.\n",
    "\n",
    "Implement the ``extract_names(folder, year)`` function which takes the folder of html files, and a year and returns the data from the file as a single list -- the year string at the start of the list followed by the name-rank strings in alphabetical order."
   ]
  },
  {
   "cell_type": "code",
   "execution_count": 7,
   "metadata": {},
   "outputs": [],
   "source": [
    "import os\n",
    "from collections import defaultdict"
   ]
  },
  {
   "cell_type": "code",
   "execution_count": 28,
   "metadata": {},
   "outputs": [],
   "source": [
    "folder = r\"C:\\Users\\dashb\\google-python-exercises\\babynames\""
   ]
  },
  {
   "cell_type": "code",
   "execution_count": 38,
   "metadata": {},
   "outputs": [
    {
     "name": "stdout",
     "output_type": "stream",
     "text": [
      "baby1990.html\n",
      "baby1992.html\n",
      "baby1994.html\n",
      "baby1996.html\n",
      "baby1998.html\n",
      "baby2000.html\n",
      "baby2002.html\n",
      "baby2004.html\n",
      "baby2006.html\n",
      "baby2008.html\n"
     ]
    }
   ],
   "source": [
    "for file in os.listdir(folder):\n",
    "    if re.search(\"\\.html$\", file):\n",
    "        print(file)"
   ]
  },
  {
   "cell_type": "code",
   "execution_count": 124,
   "metadata": {},
   "outputs": [],
   "source": [
    "def clean(line):\n",
    "    \"\"\" Remove tags from the text. \"\"\"\n",
    "    return re.sub(\"<[^>]+?>\", \" \", line).split()\n",
    "\n",
    "def extract_names(folder, y):\n",
    "    \"\"\"Extract a sorted list of popular male and female names in a specific year.\"\"\"\n",
    "    \n",
    "    result = defaultdict(dict)\n",
    "    \n",
    "    for file in os.listdir(folder):\n",
    "        # searching html pages\n",
    "        if re.search(\"\\.html$\", file):\n",
    "            html_page = os.path.join(folder, file)\n",
    "            year = int(re.search(\"\\d+\", html_page).group())\n",
    "        \n",
    "            with open(htmp_page, 'r') as page:\n",
    "                text = page.read()\n",
    "                names = re.findall(r'<tr align=\"right\">.+', text)\n",
    "                for rank, male_name, female_name in  list(map(clean, names)):\n",
    "                    if male_name not in result[year]:\n",
    "                        result[year][male_name] = rank\n",
    "                    if female_name not in result[year]:\n",
    "                        result[year][female_name] = rank\n",
    "    \n",
    "    baby_names = [\" \".join(x) for x in sorted(result[y].items(), key=lambda k: k[0])]\n",
    "    return baby_names"
   ]
  },
  {
   "cell_type": "code",
   "execution_count": 226,
   "metadata": {},
   "outputs": [
    {
     "name": "stdout",
     "output_type": "stream",
     "text": [
      "List of popular names in 2006\n",
      "Aaliyah 91\n",
      "Aaron 57\n",
      "Abagail 895\n",
      "Abbey 695\n",
      "Abbie 650\n",
      "Abbigail 490\n",
      "Abby 205\n",
      "Abdullah 888\n",
      "Abel 338\n",
      "Abigail 6\n"
     ]
    }
   ],
   "source": [
    "year = 2006\n",
    "baby_names = extract_names(folder, year)\n",
    "print(f\"List of popular names in {year}:\\n\", *baby_names[:10], sep =  \"\\n\")"
   ]
  }
 ],
 "metadata": {
  "kernelspec": {
   "display_name": "Python 3",
   "language": "python",
   "name": "python3"
  },
  "language_info": {
   "codemirror_mode": {
    "name": "ipython",
    "version": 3
   },
   "file_extension": ".py",
   "mimetype": "text/x-python",
   "name": "python",
   "nbconvert_exporter": "python",
   "pygments_lexer": "ipython3",
   "version": "3.8.5"
  }
 },
 "nbformat": 4,
 "nbformat_minor": 4
}
