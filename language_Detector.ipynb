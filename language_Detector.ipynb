{
 "cells": [
  {
   "cell_type": "code",
   "execution_count": 1,
   "id": "070b4f6c",
   "metadata": {},
   "outputs": [],
   "source": [
    "import urllib\n",
    "\n",
    "english = \"https://raw.githubusercontent.com/first20hours/google-10000-english/master/google-10000-english.txt\"\n",
    "polish = \"https://raw.githubusercontent.com/hermitdave/FrequencyWords/master/content/2016/pl/pl_50k.txt\"\n",
    "swedish = \"https://raw.githubusercontent.com/hermitdave/FrequencyWords/master/content/2016/sv/sv_50k.txt\"\n",
    "catalan = \"https://raw.githubusercontent.com/hermitdave/FrequencyWords/master/content/2016/ca/ca_50k.txt\"\n",
    "italian = \"https://raw.githubusercontent.com/hermitdave/FrequencyWords/master/content/2016/it/it_full.txt\"\n",
    "languages = {}\n",
    "for name, url in {\"english\":english, \"polish\":polish, \"swedish\":swedish, \"catalan\":catalan, \"italian\":italian}.items():\n",
    "    \n",
    "    txt = urllib.request.urlopen(url).read().decode(\"UTF-8\").split(\"\\n\")\n",
    "    words = [word.split(\" \")[0] for word in txt if len(word.split(\" \")[0])>3]\n",
    "    languages[name] = words[:5000]"
   ]
  },
  {
   "cell_type": "code",
   "execution_count": 20,
   "id": "414e05a7",
   "metadata": {},
   "outputs": [],
   "source": [
    "import torch\n",
    "import torch.nn as nn\n",
    "import matplotlib.pyplot as plt"
   ]
  },
  {
   "cell_type": "code",
   "execution_count": 2,
   "id": "ad88bbe2",
   "metadata": {},
   "outputs": [
    {
     "data": {
      "text/plain": [
       "[5000, 5000, 5000, 5000, 5000]"
      ]
     },
     "execution_count": 2,
     "metadata": {},
     "output_type": "execute_result"
    }
   ],
   "source": [
    "list(map(len, languages.values()))"
   ]
  },
  {
   "cell_type": "code",
   "execution_count": 81,
   "id": "22e74348",
   "metadata": {},
   "outputs": [
    {
     "name": "stdout",
     "output_type": "stream",
     "text": [
      "55\n"
     ]
    },
    {
     "data": {
      "text/plain": [
       "['english', 'polish', 'swedish', 'catalan', 'italian']"
      ]
     },
     "execution_count": 81,
     "metadata": {},
     "output_type": "execute_result"
    }
   ],
   "source": [
    "# build the alphabet \n",
    "alphabet = set()\n",
    "for words in languages.values():\n",
    "    alphabet.update(set(\"\".join(words)))\n",
    "alphabet = [\"$\"]+ list(alphabet) + [\" \"]\n",
    "print(len(alphabet))\n",
    "\n",
    "# create a list of classes\n",
    "target_labels = list(languages.keys())\n",
    "target_labels"
   ]
  },
  {
   "cell_type": "code",
   "execution_count": 6,
   "id": "1aa8f0ef",
   "metadata": {},
   "outputs": [],
   "source": [
    "def char2index(char):\n",
    "    return alphabet.index(char)\n",
    "\n",
    "def char2tensor(char):\n",
    "    tensor = torch.zeros(1, len(alphabet))\n",
    "    tensor[0][char2index(char)] = 1\n",
    "    return tensor\n",
    "\n",
    "def word2tensor(word):\n",
    "    word_tensor = torch.zeros(len(word), 1, len(alphabet))\n",
    "    for i, char in enumerate(word):\n",
    "        char_tensor = torch.zeros(1, len(alphabet))\n",
    "        char_tensor[0][alphabet.index(char)] = 1\n",
    "        word_tensor[i] = char_tensor\n",
    "    return torch.permute(word_tensor, (1,0,2))\n",
    "\n",
    "t = word2tensor(\"an\")\n",
    "t.shape"
   ]
  },
  {
   "cell_type": "code",
   "execution_count": 63,
   "id": "b82250ac",
   "metadata": {},
   "outputs": [],
   "source": [
    "import random\n",
    "\n",
    "def choice(obj):\n",
    "    return obj[random.randint(0, len(obj)-1)]\n",
    "\n",
    "def random_sample():\n",
    "    category = choice(target_labels)\n",
    "    category_tensor = torch.tensor(target_labels.index(category)).view(1) #from scalar to tensor\n",
    "    word = choice(languages[category])\n",
    "    word_tensor = word2tensor(word)\n",
    "    return word, category, word_tensor, category_tensor"
   ]
  },
  {
   "cell_type": "markdown",
   "id": "001e1345",
   "metadata": {},
   "source": [
    "Define a custom Dataset of words and DataLoader for batch implementation."
   ]
  },
  {
   "cell_type": "code",
   "execution_count": 15,
   "id": "a5e9a941",
   "metadata": {},
   "outputs": [],
   "source": [
    "import itertools\n",
    "from torch.utils.data import Dataset, DataLoader\n",
    "\n",
    "\n",
    "class WordDataset(Dataset):\n",
    "    def __init__(self, data_dict):\n",
    "        self.data = data_dict\n",
    "        self.classes = list(data_dict.keys())\n",
    "        \n",
    "    def __getitem__(self, idx):\n",
    "        category = choice(self.classes)\n",
    "        word = choice(self.data[category])\n",
    "        #word_tensor = torch.tensor([alphabet.index(c) for c in word])\n",
    "        #category_tensor =  torch.tensor(target_labels.index(category)).view(1)\n",
    "        return word, category #, word_tensor, category_tensor\n",
    "        \n",
    "    def __len__(self):\n",
    "        return len(list(itertools.chain(*self.data.values())))\n",
    "    \n",
    "data = WordDataset(languages)"
   ]
  },
  {
   "cell_type": "code",
   "execution_count": 27,
   "id": "850af6f6",
   "metadata": {},
   "outputs": [],
   "source": [
    "def collate_batch(batch):\n",
    "    words, categories, padded_tensors , category_tensors, lengths = [], [], [], [], []\n",
    "    for word, category in batch:\n",
    "        words.append(word)\n",
    "        categories.append(category)\n",
    "        word_tensor = torch.tensor([alphabet.index(c) for c in word])\n",
    "        lengths.append(len(word_tensor))\n",
    "        padded_tensors.append(word_tensor)\n",
    "        category_tensors.append(target_labels.index(category))\n",
    "               \n",
    "    padded_tensors = nn.utils.rnn.pad_sequence(padded_tensors, batch_first=True, padding_value=0)\n",
    "    category_tensors = torch.tensor(category_tensors)\n",
    "    lengths = torch.tensor(lengths)\n",
    "    \n",
    "    return words, categories, padded_tensors, lengths, category_tensors \n",
    "\n",
    "dataloader = DataLoader(data, batch_size = 12, shuffle = True, collate_fn = collate_batch)"
   ]
  },
  {
   "cell_type": "code",
   "execution_count": 65,
   "id": "b75d5abe",
   "metadata": {},
   "outputs": [
    {
     "name": "stdout",
     "output_type": "stream",
     "text": [
      "['maglietta', 'sole', 'going', 'writer', 'date', 'licenziata', 'fransk', 'pelle', 'torniamo', 'preoccupi', 'attityd', 'deposito'] ['italian', 'italian', 'english', 'english', 'english', 'italian', 'swedish', 'italian', 'italian', 'italian', 'swedish', 'italian'] torch.Size([12, 10]) tensor([ 9,  4,  5,  6,  4, 10,  6,  5,  8,  9,  7,  8]) tensor([4, 4, 0, 0, 0, 4, 2, 4, 4, 4, 2, 4])\n"
     ]
    }
   ],
   "source": [
    "for w, c, wt, le, ct in dataloader:\n",
    "    print(w, c, wt.shape, le, ct )\n",
    "    break"
   ]
  },
  {
   "cell_type": "code",
   "execution_count": 180,
   "id": "87b63f57",
   "metadata": {},
   "outputs": [],
   "source": [
    "class ProfRNN(nn.Module):\n",
    "    def __init__(self, input_size, hidden_size, output_size):\n",
    "        super().__init__()\n",
    "        self.hidden_size = hidden_size\n",
    "        self.i2h = nn.Linear(hidden_size + input_size, hidden_size)\n",
    "        self.h2o = nn.Linear(hidden_size + input_size, output_size)\n",
    "        self.softmax = nn.LogSoftmax(dim=1)\n",
    "        \n",
    "    def forward(self, x, hidden):\n",
    "        combined = torch.cat((x,hidden), dim=1)\n",
    "        ht = self.i2h(combined)\n",
    "        ot = self.softmax(self.h2o(combined))\n",
    "        return ot, ht\n",
    "    \n",
    "    def initHidden(self):\n",
    "        return torch.zeros(1, self.hidden_size)"
   ]
  },
  {
   "cell_type": "code",
   "execution_count": 255,
   "id": "e332d52e",
   "metadata": {},
   "outputs": [],
   "source": [
    "class ClassicRNN(nn.Module):\n",
    "    def __init__(self, input_size, hidden_size):\n",
    "        super().__init__()\n",
    "        self.hidden_size = hidden_size\n",
    "        self.rnn = nn.LSTM(input_size, hidden_size) # [54, 64]\n",
    "        self.fc = nn.Linear(hidden_size, len(target_labels)) \n",
    "        self.softmax = nn.LogSoftmax(dim=1)\n",
    "        \n",
    "    def forward(self, batch):\n",
    "        _, (hidden , cell)= self.rnn(batch) # (num_letters, 1word, hidden_size) , (1, 1word, hidden_size)\n",
    "        probs = self.softmax(self.fc(hidden.squeeze(0))) #(1word, hidden_size)\n",
    "        return probs"
   ]
  },
  {
   "cell_type": "code",
   "execution_count": 55,
   "id": "fcefeb23",
   "metadata": {},
   "outputs": [],
   "source": [
    "class ClassicRNNBatch(nn.Module):\n",
    "    def __init__(self, vocab_size, embed_dim, hidden_size):\n",
    "        super().__init__()\n",
    "        self.hidden_size = hidden_size\n",
    "        self.embedding = nn.Embedding(vocab_size, embed_dim, padding_idx = 0)\n",
    "        self.rnn = nn.LSTM(embed_dim, hidden_size, batch_first = True) # [54, 64]\n",
    "        self.fc = nn.Linear(hidden_size, len(target_labels)) #\n",
    "        self.softmax = nn.LogSoftmax(dim=1)\n",
    "        \n",
    "    def forward(self, batch, lengths):\n",
    "        embed = self.embedding(batch)\n",
    "        riduced_embed = nn.utils.rnn.pack_padded_sequence(embed, lengths, enforce_sorted = False, batch_first = True)\n",
    "        _, (hidden , cell)= self.rnn(riduced_embed) # (12_word, num_letters, hidden_size), (1, 12_words, hidden_size)\n",
    "        probs = self.softmax(self.fc(hidden.squeeze(0))) #(12_words, hidden_size)\n",
    "        return probs"
   ]
  },
  {
   "cell_type": "code",
   "execution_count": 351,
   "id": "83dee292",
   "metadata": {},
   "outputs": [
    {
     "name": "stdout",
     "output_type": "stream",
     "text": [
      "ClassicRNNBatch(\n",
      "  (embedding): Embedding(55, 42, padding_idx=0)\n",
      "  (rnn): LSTM(42, 64, batch_first=True)\n",
      "  (fc): Linear(in_features=64, out_features=5, bias=True)\n",
      "  (softmax): LogSoftmax(dim=1)\n",
      ")\n"
     ]
    }
   ],
   "source": [
    "n_hidden = 64\n",
    "rnn1 = ClassicRNN(len(alphabet), n_hidden)\n",
    "rnn2 = ProfRNN(len(alphabet), n_hidden, len(target_labels))\n",
    "rnn3 = ClassicRNNBatch(len(alphabet), 42, n_hidden)\n",
    "print(rnn3)"
   ]
  },
  {
   "cell_type": "markdown",
   "id": "85be4e51",
   "metadata": {},
   "source": [
    "ClassicRNN and ProfRNN basically implement the same NN architecture:\n",
    "* take as input a sequence of one-hot encoded vectors(letters)\n",
    "* start with rnn/lstm layer followed by linear fc layer and logsoftmax activation\n",
    "\n",
    "The only difference is that prof processes manually the sequence in a for loop one letter at a time. While in my implementation I use the the RNN layer which automatically processes the whole sequence and outputs the final hidden state. A more optimized implementation occures with batch processing. \n",
    "* The ClassicRNNBatch does not deal with one-hot encoding.\n",
    "* It takes a batch of padded indexed words as input (tensors) and embedds the batch internally.\n",
    "* Thus, the NN architecture starts with an Embedding layer \n",
    "* Before feeding teh embedded batch to rnn layer, we pack the padded embeddings into a compact structure\n",
    "* After rnn layer there is a linear layer followed by log softmax activation"
   ]
  },
  {
   "cell_type": "markdown",
   "id": "9b6eb5ed",
   "metadata": {},
   "source": [
    "### Model training"
   ]
  },
  {
   "cell_type": "code",
   "execution_count": 194,
   "id": "b9e671c0",
   "metadata": {},
   "outputs": [],
   "source": [
    "### Prof model training\n",
    "criterion = nn.NLLLoss()\n",
    "optimizer = torch.optim.Adam(rnn2.parameters(), lr = 0.0005)\n",
    "\n",
    "def train2(word_tensor, category_tensor):\n",
    "    hidden = rnn2.initHidden()\n",
    "    optimizer.zero_grad()\n",
    "    \n",
    "    for char in range(word_tensor.size(0)):\n",
    "        out, hidden = rnn2(word_tensor[char], hidden)\n",
    "        \n",
    "    loss = criterion(out, category_tensor)\n",
    "    loss.backward()\n",
    "    optimizer.step()\n",
    "        \n",
    "    return out, loss.item()\n",
    "# _________________________________________________________________________________\n",
    "\n",
    "def train1(word_tensor, category_tensor):\n",
    "    optimizer.zero_grad()\n",
    "    \n",
    "    out = rnn1(word_tensor)\n",
    "        \n",
    "    loss = criterion(out, category_tensor)\n",
    "    loss.backward()\n",
    "    optimizer.step()\n",
    "        \n",
    "    return out, loss.item()"
   ]
  },
  {
   "cell_type": "code",
   "execution_count": 266,
   "id": "6c8a3cf2",
   "metadata": {},
   "outputs": [
    {
     "data": {
      "image/png": "[encoded data removed]",
      "text/plain": [
       "<Figure size 720x288 with 1 Axes>"
      ]
     },
     "metadata": {
      "needs_background": "light"
     },
     "output_type": "display_data"
    }
   ],
   "source": [
    "# lstm with Adam optimizer and lr = 0.0005 yields more stable learcning and allows to achieve lower loss\n",
    "\n",
    "fig, ax = plt.subplots(figsize = (10,4))\n",
    "ax.plot(all_losses)\n",
    "plt.tight_layout()\n",
    "plt.show()"
   ]
  },
  {
   "cell_type": "markdown",
   "id": "507675e4",
   "metadata": {},
   "source": [
    "### Model Evaluation on a sample of 1000 words"
   ]
  },
  {
   "cell_type": "code",
   "execution_count": 223,
   "id": "e16a3c09",
   "metadata": {},
   "outputs": [
    {
     "name": "stdout",
     "output_type": "stream",
     "text": [
      "tensor([[-0.0313, -4.5725, -4.6144]], grad_fn=<TopkBackward0>) tensor([[2, 4, 1]])\n"
     ]
    }
   ],
   "source": [
    "topv, topk = torch.topk(rnn1(word_tensor), 3)\n",
    "print(topv, topk) "
   ]
  },
  {
   "cell_type": "code",
   "execution_count": 218,
   "id": "b772a3d5",
   "metadata": {},
   "outputs": [
    {
     "data": {
      "text/plain": [
       "'swedish'"
      ]
     },
     "execution_count": 218,
     "metadata": {},
     "output_type": "execute_result"
    }
   ],
   "source": [
    "target_labels[topk]"
   ]
  },
  {
   "cell_type": "code",
   "execution_count": 267,
   "id": "da405ba9",
   "metadata": {},
   "outputs": [],
   "source": [
    "rnn1.eval()\n",
    "y_true, y_pred = [],[]\n",
    "for i in range(1000):\n",
    "    word, category, word_tensor, cat_tensor = random_sample()\n",
    "    probs = rnn1(word_tensor)\n",
    "    topv, topk = torch.topk(probs, 1)\n",
    "    y_true.append(category)\n",
    "    y_pred.append(target_labels[topk])"
   ]
  },
  {
   "cell_type": "code",
   "execution_count": 268,
   "id": "3b777a01",
   "metadata": {},
   "outputs": [
    {
     "name": "stdout",
     "output_type": "stream",
     "text": [
      "              precision    recall  f1-score   support\n",
      "\n",
      "     catalan       0.63      0.77      0.69       201\n",
      "     english       0.69      0.76      0.72       201\n",
      "     italian       0.80      0.71      0.75       192\n",
      "      polish       0.91      0.84      0.87       202\n",
      "     swedish       0.79      0.68      0.73       204\n",
      "\n",
      "    accuracy                           0.75      1000\n",
      "   macro avg       0.76      0.75      0.75      1000\n",
      "weighted avg       0.76      0.75      0.75      1000\n",
      "\n"
     ]
    },
    {
     "data": {
      "image/png": "[encoded data removed]",
      "text/plain": [
       "<Figure size 432x288 with 2 Axes>"
      ]
     },
     "metadata": {
      "needs_background": "light"
     },
     "output_type": "display_data"
    }
   ],
   "source": [
    "from sklearn.metrics import classification_report, confusion_matrix, ConfusionMatrixDisplay\n",
    "print(classification_report(y_true, y_pred))\n",
    "cm = confusion_matrix(y_true, y_pred, labels = target_labels)\n",
    "disp = ConfusionMatrixDisplay(confusion_matrix = cm, display_labels = target_labels)\n",
    "disp.plot()\n",
    "plt.show()"
   ]
  },
  {
   "cell_type": "markdown",
   "id": "40d3252e",
   "metadata": {},
   "source": [
    "### Optimized training"
   ]
  },
  {
   "cell_type": "code",
   "execution_count": 58,
   "id": "8aac5ce7",
   "metadata": {},
   "outputs": [],
   "source": [
    "criterion = nn.NLLLoss()\n",
    "optimizer = torch.optim.Adam(rnn3.parameters(), lr = 0.0005)\n",
    "\n",
    "def train3(word_tensor, category_tensor, le):\n",
    "    rnn3.train()\n",
    "    optimizer.zero_grad()\n",
    "    \n",
    "    out = rnn3(word_tensor, le)\n",
    "        \n",
    "    # average loss per batch of 12 words\n",
    "    loss = criterion(out, category_tensor)\n",
    "    loss.backward()\n",
    "    optimizer.step()\n",
    "        \n",
    "    return out, loss.item()"
   ]
  },
  {
   "cell_type": "code",
   "execution_count": 61,
   "id": "432ece02",
   "metadata": {},
   "outputs": [
    {
     "data": {
      "application/vnd.jupyter.widget-view+json": {
       "model_id": "1d5bbff5764f43b6b2788644c25ca754",
       "version_major": 2,
       "version_minor": 0
      },
      "text/plain": [
       "  0%|          | 0/100000 [00:00<?, ?it/s]"
      ]
     },
     "metadata": {},
     "output_type": "display_data"
    }
   ],
   "source": [
    "from tqdm.notebook import tqdm\n",
    "rnn3.train()\n",
    "all_losses = []\n",
    "current_loss = 0\n",
    "\n",
    "# range(1, 100000+1) in order to prevent loss starting from zero \n",
    "for iteration in tqdm(range(1, 100000+1)):\n",
    "    word_b, category_b, word_tensor_b, le_b, category_tensor_b = next(iter(dataloader))\n",
    "    out, loss = train3(word_tensor_b, category_tensor_b, le_b)\n",
    "    current_loss += loss\n",
    "    \n",
    "    if iteration % 500 == 0:\n",
    "        all_losses.append(current_loss/500)\n",
    "        current_loss = 0    "
   ]
  },
  {
   "cell_type": "code",
   "execution_count": 62,
   "id": "12fd59c2",
   "metadata": {},
   "outputs": [
    {
     "data": {
      "image/png": "[encoded data removed]",
      "text/plain": [
       "<Figure size 720x288 with 1 Axes>"
      ]
     },
     "metadata": {
      "needs_background": "light"
     },
     "output_type": "display_data"
    }
   ],
   "source": [
    "# training with batches of 12 words, lstm with Adam optimizer and learning rate 0.0005\n",
    "\n",
    "fig, ax = plt.subplots(figsize = (10,4))\n",
    "ax.plot(all_losses)\n",
    "plt.tight_layout()\n",
    "plt.show()"
   ]
  },
  {
   "cell_type": "code",
   "execution_count": 77,
   "id": "1063f95e",
   "metadata": {},
   "outputs": [],
   "source": [
    "rnn3.eval()\n",
    "y_true, y_pred = [],[]\n",
    "for i in range(1000):\n",
    "    word, category, word_tensor, cat_tensor = random_sample()\n",
    "    word_tensor = torch.tensor([alphabet.index(c) for c in word]).reshape(1, -1)\n",
    "    lenght = torch.tensor(len(word)).view(1)\n",
    "    probs = rnn3(word_tensor, lenght)\n",
    "    topv, topk = torch.topk(probs, 1)\n",
    "    y_true.append(category)\n",
    "    y_pred.append(target_labels[topk])"
   ]
  },
  {
   "cell_type": "code",
   "execution_count": 78,
   "id": "f0069109",
   "metadata": {},
   "outputs": [
    {
     "name": "stdout",
     "output_type": "stream",
     "text": [
      "              precision    recall  f1-score   support\n",
      "\n",
      "     catalan       0.84      0.89      0.86       212\n",
      "     english       0.84      0.91      0.88       190\n",
      "     italian       0.89      0.82      0.85       198\n",
      "      polish       0.97      0.93      0.95       185\n",
      "     swedish       0.88      0.86      0.87       215\n",
      "\n",
      "    accuracy                           0.88      1000\n",
      "   macro avg       0.88      0.88      0.88      1000\n",
      "weighted avg       0.88      0.88      0.88      1000\n",
      "\n"
     ]
    },
    {
     "data": {
      "image/png": "[encoded data removed]",
      "text/plain": [
       "<Figure size 432x288 with 2 Axes>"
      ]
     },
     "metadata": {
      "needs_background": "light"
     },
     "output_type": "display_data"
    }
   ],
   "source": [
    "from sklearn.metrics import classification_report, confusion_matrix, ConfusionMatrixDisplay\n",
    "print(classification_report(y_true, y_pred))\n",
    "cm = confusion_matrix(y_true, y_pred, labels = target_labels)\n",
    "disp = ConfusionMatrixDisplay(confusion_matrix = cm, display_labels = target_labels)\n",
    "disp.plot()\n",
    "plt.show()"
   ]
  },
  {
   "cell_type": "code",
   "execution_count": 249,
   "id": "8cb754eb",
   "metadata": {},
   "outputs": [],
   "source": [
    "def predict(input_string, num_predictions=3):\n",
    "    word_tensor = word2tensor(input_string)\n",
    "    with torch.no_grad():\n",
    "        topv, topk = rnn1(word_tensor).topk(num_predictions)\n",
    "        predictions = [target_labels[i] for i in topk[0]]\n",
    "        values = [round(i.item(), 2) for i in topv[0]]\n",
    "        for value, prediction in zip(values, predictions):\n",
    "            print(\"(%.2f) %s\" % (value, prediction))"
   ]
  },
  {
   "cell_type": "code",
   "execution_count": 254,
   "id": "570cada2",
   "metadata": {},
   "outputs": [
    {
     "name": "stdout",
     "output_type": "stream",
     "text": [
      "italian aspettate\n",
      "(-0.35) italian\n",
      "(-1.40) english\n",
      "(-3.62) polish\n",
      "swedish lektion\n",
      "(-0.60) swedish\n",
      "(-1.60) english\n",
      "(-1.71) catalan\n",
      "polish więc\n",
      "(-0.00) polish\n",
      "(-7.55) catalan\n",
      "(-8.44) english\n",
      "swedish somnade\n",
      "(-0.30) swedish\n",
      "(-2.29) italian\n",
      "(-2.39) catalan\n",
      "catalan entrada\n",
      "(-0.43) catalan\n",
      "(-1.45) italian\n",
      "(-2.45) swedish\n"
     ]
    }
   ],
   "source": [
    "for sample in range(5):\n",
    "    w,c, wt, ct = random_sample()\n",
    "    print(c, w)\n",
    "    predict(w)"
   ]
  }
 ],
 "metadata": {
  "kernelspec": {
   "display_name": "Python 3 (ipykernel)",
   "language": "python",
   "name": "python3"
  },
  "language_info": {
   "codemirror_mode": {
    "name": "ipython",
    "version": 3
   },
   "file_extension": ".py",
   "mimetype": "text/x-python",
   "name": "python",
   "nbconvert_exporter": "python",
   "pygments_lexer": "ipython3",
   "version": "3.9.7"
  }
 },
 "nbformat": 4,
 "nbformat_minor": 5
}
