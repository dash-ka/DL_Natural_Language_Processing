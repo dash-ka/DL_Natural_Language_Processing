{
 "cells": [
  {
   "cell_type": "markdown",
   "id": "18f70036",
   "metadata": {},
   "source": [
    "<p style=\"align: center;\"><img src=\"http://upload.wikimedia.org/wikipedia/commons/9/96/Pytorch_logo.png\" width=400 height=100></p>"
   ]
  },
  {
   "cell_type": "markdown",
   "id": "0fe0e7cc",
   "metadata": {},
   "source": [
    "## <h3 style=\"text-align: center;\"><b>Installing PyTorch</b>"
   ]
  },
  {
   "cell_type": "markdown",
   "id": "448ded3a",
   "metadata": {},
   "source": [
    "Go to [pytorch.org](https://pytorch.org/) and install PyTorch version choosing your system preferences."
   ]
  },
  {
   "cell_type": "code",
   "execution_count": 373,
   "id": "e5f641bb",
   "metadata": {},
   "outputs": [],
   "source": [
    "import torch"
   ]
  },
  {
   "cell_type": "markdown",
   "id": "5290d855",
   "metadata": {},
   "source": [
    "PyTorch is a deep learning framework, build on 3 main components.\n",
    "\n",
    "$$ PyTorch = NumPy + CUDA +Autograd$$\n",
    "\n",
    "PyTorch works with ``tensor`` data structure, which is similar to NumPy's ``ndarray``, except that:\n",
    " 1. tensors can run on GPUs or other hardware accelerators via [CUDA](http://en.wikipedia.org/wiki/CUDA)\n",
    " 2. tensors are also optimized for automatic differentiation (Autograd)\n",
    "\n",
    "Tensor is a multi-dimensional array:\n",
    "- a scalar is a zero dimensional tensor : `` x = 9 # shape ([])``\n",
    "- a vector, is a 1d tensor : `` y = [9, 5, 10] # shape ([3])``\n",
    "- a matrix is a 2d tensor : `` z = [[9, 5, 10], [12, 6, 3]] # shape ([2, 3])``\n",
    "- a 3d array is a 3d tensor: `` t = [[[9, 5, 10], [12, 6, 3]], [[7, 4, 11], [2, 13, 8]]] # shape ([2, 2, 3])``"
   ]
  },
  {
   "cell_type": "markdown",
   "id": "bd63e384",
   "metadata": {},
   "source": [
    "## <h3 style=\"text-align: center;\"><b> Creating a tensor</b>"
   ]
  },
  {
   "cell_type": "markdown",
   "id": "81df3529",
   "metadata": {},
   "source": [
    "There are a few ways to create a tensor, depending on your use case:\n",
    "1. directly from pre-existing data, like Python list or any sequence, NumPy array, etc.\n",
    "2. creating a tensor with a specific shape, filled with random or constant values\n",
    "3. from another tensor, keeping its shape and type"
   ]
  },
  {
   "cell_type": "markdown",
   "id": "e44fb3f3",
   "metadata": {},
   "source": [
    " To create a tensor with pre-existing data, use ``torch.tensor()``"
   ]
  },
  {
   "cell_type": "code",
   "execution_count": 374,
   "id": "372f008f",
   "metadata": {},
   "outputs": [
    {
     "data": {
      "text/plain": [
       "tensor([1, 2, 3])"
      ]
     },
     "execution_count": 374,
     "metadata": {},
     "output_type": "execute_result"
    }
   ],
   "source": [
    "data = [1, 2, 3]\n",
    "torch.tensor(data) #, dtype=torch.float32, device=\"cpu\", requires_grad=True) # The data type is automatically inferred."
   ]
  },
  {
   "cell_type": "markdown",
   "id": "c374635d",
   "metadata": {},
   "source": [
    "<h6 style=\"text-align\"><b> From NumPy to PyTorch and viceversa</b>"
   ]
  },
  {
   "cell_type": "code",
   "execution_count": 375,
   "id": "86290016",
   "metadata": {},
   "outputs": [
    {
     "data": {
      "text/plain": [
       "array([1, 2, 3])"
      ]
     },
     "execution_count": 375,
     "metadata": {},
     "output_type": "execute_result"
    }
   ],
   "source": [
    "import numpy as np\n",
    "np_array = np.array(data)\n",
    "\n",
    "t = torch.from_numpy(np_array)    # creates a tensor that shares storage with a NumPy array\n",
    "t.numpy()                         # back to numpy"
   ]
  },
  {
   "cell_type": "markdown",
   "id": "d892c37f",
   "metadata": {},
   "source": [
    " "
   ]
  },
  {
   "cell_type": "markdown",
   "id": "73f61bc9",
   "metadata": {},
   "source": [
    "To create a tensor with specific size, filled with random or constant values, use ``torch.* ``,\\\n",
    "passing a sequence of integers defining the desired ``shape`` of a tensor.\\\n",
    "``shape`` can be a variable number of integers OR a collection like a list or tuple.\n"
   ]
  },
  {
   "cell_type": "code",
   "execution_count": 21,
   "id": "d6b4479c",
   "metadata": {},
   "outputs": [],
   "source": [
    "shape = (3, 2) "
   ]
  },
  {
   "cell_type": "markdown",
   "id": "3d23b341",
   "metadata": {},
   "source": [
    "<h6 style=\"text-align: center;\"><b>Sampling values uniformly from [0, 1) </b>"
   ]
  },
  {
   "cell_type": "code",
   "execution_count": 5,
   "id": "d9492ba5",
   "metadata": {},
   "outputs": [
    {
     "name": "stdout",
     "output_type": "stream",
     "text": [
      "tensor([[0.9357, 0.6730],\n",
      "        [0.3520, 0.4682],\n",
      "        [0.8984, 0.9442]])\n"
     ]
    }
   ],
   "source": [
    "random_uniform = torch.rand(shape)                          # FloatTensor from Uniform[0, 1)\n",
    "print(random_uniform)         "
   ]
  },
  {
   "cell_type": "markdown",
   "id": "a05247d3",
   "metadata": {},
   "source": [
    "<h6 style=\"text-align: center;\"><b>Sampling integers uniformly from [low, high) </b>"
   ]
  },
  {
   "cell_type": "code",
   "execution_count": 23,
   "id": "fef69369",
   "metadata": {},
   "outputs": [
    {
     "name": "stdout",
     "output_type": "stream",
     "text": [
      "tensor([[6, 4],\n",
      "        [3, 5],\n",
      "        [4, 4]])\n"
     ]
    }
   ],
   "source": [
    "random_uniform = torch.randint(low=2, high=7, size=shape)   # IntTensor from Uniform[2, 7)\n",
    "print(random_uniform)"
   ]
  },
  {
   "cell_type": "markdown",
   "id": "e02b7a27",
   "metadata": {},
   "source": [
    "<h6 style=\"text-align: center;\"><b>Sampling from normal distribution</b>"
   ]
  },
  {
   "cell_type": "code",
   "execution_count": 7,
   "id": "b2cb6437",
   "metadata": {},
   "outputs": [
    {
     "name": "stdout",
     "output_type": "stream",
     "text": [
      "tensor([[7.2220, 4.6691],\n",
      "        [6.5884, 6.1355],\n",
      "        [3.1481, 1.7654]])\n"
     ]
    }
   ],
   "source": [
    "random_normal = torch.randn(shape)                          # FloatTensor from Normal(0, 1) \n",
    "random_normal = torch.normal(mean=5, std=2, size=shape)     # FloatTensor from Normal(5, 2)\n",
    "print(random_normal)"
   ]
  },
  {
   "cell_type": "markdown",
   "id": "97e75560",
   "metadata": {},
   "source": [
    "<h6 style=\"text-align: center;\"><b> Dummy tensors of zeros and ones </b>"
   ]
  },
  {
   "cell_type": "code",
   "execution_count": 25,
   "id": "566af935",
   "metadata": {},
   "outputs": [
    {
     "data": {
      "text/plain": [
       "tensor([[1., 1.],\n",
       "        [1., 1.],\n",
       "        [1., 1.]])"
      ]
     },
     "execution_count": 25,
     "metadata": {},
     "output_type": "execute_result"
    }
   ],
   "source": [
    "zero_tensor = torch.zeros(shape)                             # initialize with zeros\n",
    "ones_tensor = torch.ones(shape)                              # initialize with ones\n",
    "print(ones_tensor)"
   ]
  },
  {
   "cell_type": "markdown",
   "id": "c6f2c2ae",
   "metadata": {},
   "source": [
    "<h6 style=\"text-align: center;\"><b> Tensors of a specific data type </b>"
   ]
  },
  {
   "cell_type": "code",
   "execution_count": 18,
   "id": "a6e60a0a",
   "metadata": {},
   "outputs": [
    {
     "data": {
      "text/plain": [
       "tensor([[False, False],\n",
       "        [False, False],\n",
       "        [False, False]])"
      ]
     },
     "execution_count": 18,
     "metadata": {},
     "output_type": "execute_result"
    }
   ],
   "source": [
    "# shape MUST be a variable number of integers\n",
    "float_tensor = torch.FloatTensor(3, 2)                    # dtype = float32 == torch.Tensor(shape)\n",
    "int_tensor = torch.IntTensor(3, 2)                        # dtype = int32\n",
    "long_tensor = torch.LongTensor(3, 2)                      # dtype = int64\n",
    "bool_tensor = torch.BoolTensor(3, 2)                      # dtype = bool\n",
    "print(bool_tensor)"
   ]
  },
  {
   "cell_type": "markdown",
   "id": "4ad66571",
   "metadata": {},
   "source": [
    " "
   ]
  },
  {
   "cell_type": "markdown",
   "id": "3558bce1",
   "metadata": {},
   "source": [
    "To create a tensor with the same size and type as another tensor, use ``torch.*_like`` "
   ]
  },
  {
   "cell_type": "code",
   "execution_count": 376,
   "id": "e7ea3a77",
   "metadata": {},
   "outputs": [
    {
     "name": "stdout",
     "output_type": "stream",
     "text": [
      "tensor([0, 0, 0], dtype=torch.int32)\n"
     ]
    }
   ],
   "source": [
    "t = torch.tensor(data, dtype=torch.float32)\n",
    "\n",
    "new_tensor = torch.randn_like(t)                          # retains the shape and dtype of t\n",
    "new_tensor = torch.rand_like(t)                           # retains the shape and dtype of t\n",
    "new_tensor = torch.ones_like(t)                           # retains the shape and dtype of t\n",
    "new_tensor = torch.zeros_like(t, dtype=torch.int)         # can override the datatype \n",
    "print(new_tensor)"
   ]
  },
  {
   "cell_type": "markdown",
   "id": "c4bcf383",
   "metadata": {},
   "source": [
    "<h4 style=\"text-align: center;\"><b> Changing the content of existing tensor </b>"
   ]
  },
  {
   "cell_type": "markdown",
   "id": "8d34e4c1",
   "metadata": {},
   "source": [
    "Any PyTorch method with an underscore ``_`` modifies the object in place"
   ]
  },
  {
   "cell_type": "code",
   "execution_count": 377,
   "id": "b0ad7c0e",
   "metadata": {},
   "outputs": [
    {
     "data": {
      "text/plain": [
       "tensor([3., 3., 3.])"
      ]
     },
     "execution_count": 377,
     "metadata": {},
     "output_type": "execute_result"
    }
   ],
   "source": [
    "t.zero_()                   # zero out tensor's content\n",
    "t.uniform_()                # replace with values from a continuous random Uniform[from, to)\n",
    "t.normal_(mean=3)           # replace with values from a Normal(mean, std) \n",
    "t.fill_(3)                  # fill-in tensor with a constant value"
   ]
  },
  {
   "cell_type": "markdown",
   "id": "3b1b0e84",
   "metadata": {},
   "source": [
    "## <h3 style=\"text-align: center;\"><b> Attributes of a Tensor </b>"
   ]
  },
  {
   "cell_type": "markdown",
   "id": "a266e31b",
   "metadata": {},
   "source": [
    "Tensor attributes describe their shape, datatype, and the device on which they are stored."
   ]
  },
  {
   "cell_type": "code",
   "execution_count": 378,
   "id": "aa5d22c5",
   "metadata": {},
   "outputs": [
    {
     "name": "stdout",
     "output_type": "stream",
     "text": [
      "tensor([3., 3., 3.])\n",
      "Shape: torch.Size([3])\n",
      "Type: torch.FloatTensor\n",
      "Device: cpu\n"
     ]
    }
   ],
   "source": [
    "print(t)\n",
    "print(\"Shape:\",   t.size()) # same as t.shape\n",
    "print(\"Type:\",    t.type())\n",
    "print(\"Device:\",  t.device)"
   ]
  },
  {
   "cell_type": "markdown",
   "id": "1bdd5226",
   "metadata": {},
   "source": [
    "<h4 style=\"text-align: center;\"><b> Changing tensor's type </b>"
   ]
  },
  {
   "cell_type": "code",
   "execution_count": 379,
   "id": "4dca8b78",
   "metadata": {},
   "outputs": [
    {
     "name": "stdout",
     "output_type": "stream",
     "text": [
      "tensor([3., 3., 3.])\n",
      "Type: torch.FloatTensor\n"
     ]
    }
   ],
   "source": [
    "t = t.to(torch.float)\n",
    "print(t)\n",
    "print(\"Type:\", t.type())"
   ]
  },
  {
   "cell_type": "markdown",
   "id": "6d6e85af",
   "metadata": {},
   "source": [
    "<h6 style=\"text-align: center;\"><b> Changing tensor's device </b>"
   ]
  },
  {
   "cell_type": "markdown",
   "id": "b0f6da88",
   "metadata": {},
   "source": [
    "By default all tensors are allocated on the CPU memory, where all the computation is performed.\\\n",
    "If you have a GPU, you can access its memory via a specialized API called CUDA.\\\n",
    "Move tensors from cpu to cuda and viceversa by using the ``.to(device)`` method. "
   ]
  },
  {
   "cell_type": "markdown",
   "id": "b542a8e6",
   "metadata": {},
   "source": [
    "<h6 style=\"text-align\"><b> Check if cuda is available</b>"
   ]
  },
  {
   "cell_type": "code",
   "execution_count": 277,
   "id": "b3ca0b58",
   "metadata": {},
   "outputs": [
    {
     "data": {
      "text/plain": [
       "False"
      ]
     },
     "execution_count": 277,
     "metadata": {},
     "output_type": "execute_result"
    }
   ],
   "source": [
    "torch.cuda.is_available()"
   ]
  },
  {
   "cell_type": "code",
   "execution_count": 295,
   "id": "eb1412d0",
   "metadata": {},
   "outputs": [],
   "source": [
    "device = \"cuda\" if torch.cuda.is_available() else \"cpu\""
   ]
  },
  {
   "cell_type": "markdown",
   "id": "05584c0b",
   "metadata": {},
   "source": [
    "<h6 style=\"text-align\"><b> Move tensor to device </b>"
   ]
  },
  {
   "cell_type": "code",
   "execution_count": 380,
   "id": "ab443e12",
   "metadata": {},
   "outputs": [
    {
     "name": "stdout",
     "output_type": "stream",
     "text": [
      "Device: cpu\n"
     ]
    }
   ],
   "source": [
    "t = t.to(device) # t.cpu() or t.cuda()\n",
    "print(\"Device:\",  t.device)"
   ]
  },
  {
   "cell_type": "markdown",
   "id": "b9dd746d",
   "metadata": {},
   "source": [
    "<h6 style=\"text-align\"><b> Perform computations on GPU and move the results to CPU </b>"
   ]
  },
  {
   "cell_type": "code",
   "execution_count": null,
   "id": "df1fc057",
   "metadata": {},
   "outputs": [],
   "source": [
    "a = torch.randn(100, 100)\n",
    "b = torch.clone(a)\n",
    "c = (a.cuda() + b.cuda()).cpu()"
   ]
  },
  {
   "cell_type": "markdown",
   "id": "ed2fd879",
   "metadata": {},
   "source": [
    "<h6 style=\"text-align\"><b> To perform computations all tensors need to be on the same device ! </b>"
   ]
  },
  {
   "cell_type": "code",
   "execution_count": null,
   "id": "1f2f79ba",
   "metadata": {},
   "outputs": [],
   "source": [
    "a.cpu() + b.cuda() # will raise an error: expected all tensors to be on the same device, but found two devices"
   ]
  },
  {
   "cell_type": "markdown",
   "id": "8396cb07",
   "metadata": {},
   "source": [
    "<h3 style=\"text-align: center;\"><b> Example </b>"
   ]
  },
  {
   "cell_type": "code",
   "execution_count": 304,
   "id": "937da277",
   "metadata": {},
   "outputs": [
    {
     "name": "stdout",
     "output_type": "stream",
     "text": [
      "tensor([[1.1848, 1.7950],\n",
      "        [1.8491, 1.8859],\n",
      "        [1.6308, 1.6536],\n",
      "        [1.7804, 1.3664],\n",
      "        [1.8497, 1.9838]], dtype=torch.float64)\n"
     ]
    }
   ],
   "source": [
    "if torch.cuda.is_available():\n",
    "    device = \"cuda\"\n",
    "else:\n",
    "    device = \"cpu\"\n",
    "\n",
    "x = torch.FloatTensor(5, 2).uniform_().to(device)\n",
    "y = torch.ones_like(x, device=device)\n",
    "z = x + y\n",
    "z = z.to(\"cpu\", torch.double)\n",
    "print(z)"
   ]
  },
  {
   "cell_type": "markdown",
   "id": "7701c210",
   "metadata": {},
   "source": [
    "## <h3 style=\"text-align: center;\"><b> Reshaping a tensor </b>"
   ]
  },
  {
   "cell_type": "code",
   "execution_count": 398,
   "id": "a868a72e",
   "metadata": {},
   "outputs": [
    {
     "data": {
      "text/plain": [
       "tensor([0, 1, 2, 3, 4, 5, 6, 7, 8, 9])"
      ]
     },
     "execution_count": 398,
     "metadata": {},
     "output_type": "execute_result"
    }
   ],
   "source": [
    "t = torch.arange(0, 10, step=1) # [start=0, end=10, step=1)\n",
    "t"
   ]
  },
  {
   "cell_type": "markdown",
   "id": "ba7458d6",
   "metadata": {},
   "source": [
    " <h6 style=\"text-align: center;\"><b>Reshape from 1d to 2d </b> "
   ]
  },
  {
   "cell_type": "markdown",
   "id": "8e9ecfda",
   "metadata": {},
   "source": [
    "``[10] -> [2, 5]``"
   ]
  },
  {
   "cell_type": "code",
   "execution_count": 399,
   "id": "c005e2a1",
   "metadata": {},
   "outputs": [
    {
     "data": {
      "text/plain": [
       "tensor([[0, 1, 2, 3, 4],\n",
       "        [5, 6, 7, 8, 9]])"
      ]
     },
     "execution_count": 399,
     "metadata": {},
     "output_type": "execute_result"
    }
   ],
   "source": [
    "y = t.view(2, 5) # y shares the storage with the original tensor t\n",
    "y = t.reshape(2, 5) # y may share the storage with t (y is a view of t) or not ( y is a copy of t)\n",
    "y"
   ]
  },
  {
   "cell_type": "markdown",
   "id": "5fea37e8",
   "metadata": {},
   "source": [
    "<h6 style=\"text-align:  center;\"><b> Add a new dimension of size 1</b> "
   ]
  },
  {
   "cell_type": "markdown",
   "id": "51352622",
   "metadata": {},
   "source": [
    "``[2, 5] -> [2, 5, 1]``"
   ]
  },
  {
   "cell_type": "code",
   "execution_count": 400,
   "id": "90292086",
   "metadata": {},
   "outputs": [
    {
     "name": "stdout",
     "output_type": "stream",
     "text": [
      "Shape: torch.Size([2, 5, 1])\n",
      "tensor([[[0],\n",
      "         [1],\n",
      "         [2],\n",
      "         [3],\n",
      "         [4]],\n",
      "\n",
      "        [[5],\n",
      "         [6],\n",
      "         [7],\n",
      "         [8],\n",
      "         [9]]])\n"
     ]
    }
   ],
   "source": [
    "b = y.unsqueeze(2) # same as y.unsqueeze(-1) where -1 means the last dimension \n",
    "print(\"Shape:\", b.shape)\n",
    "print(b)"
   ]
  },
  {
   "cell_type": "markdown",
   "id": "8452545a",
   "metadata": {},
   "source": [
    "<h6 style=\"text-align:  center;\"><b> Expand dimension(s) of size 1 to a larger size</b> "
   ]
  },
  {
   "cell_type": "markdown",
   "id": "7c2a25c6",
   "metadata": {},
   "source": [
    "``[2, 5, 1] -> [2, 5, 10]``"
   ]
  },
  {
   "cell_type": "code",
   "execution_count": 401,
   "id": "ca828783",
   "metadata": {},
   "outputs": [
    {
     "data": {
      "text/plain": [
       "tensor([[[0, 0, 0, 0, 0, 0, 0, 0, 0, 0],\n",
       "         [1, 1, 1, 1, 1, 1, 1, 1, 1, 1],\n",
       "         [2, 2, 2, 2, 2, 2, 2, 2, 2, 2],\n",
       "         [3, 3, 3, 3, 3, 3, 3, 3, 3, 3],\n",
       "         [4, 4, 4, 4, 4, 4, 4, 4, 4, 4]],\n",
       "\n",
       "        [[5, 5, 5, 5, 5, 5, 5, 5, 5, 5],\n",
       "         [6, 6, 6, 6, 6, 6, 6, 6, 6, 6],\n",
       "         [7, 7, 7, 7, 7, 7, 7, 7, 7, 7],\n",
       "         [8, 8, 8, 8, 8, 8, 8, 8, 8, 8],\n",
       "         [9, 9, 9, 9, 9, 9, 9, 9, 9, 9]]])"
      ]
     },
     "execution_count": 401,
     "metadata": {},
     "output_type": "execute_result"
    }
   ],
   "source": [
    "b.expand(-1, -1, 10) # -1 means not changing the size of that dimension"
   ]
  },
  {
   "cell_type": "markdown",
   "id": "cfdf6303",
   "metadata": {},
   "source": [
    "<h6 style=\"text-align:  center;\"><b> Exchange the order of dimenstions </b> "
   ]
  },
  {
   "cell_type": "markdown",
   "id": "81cbeff8",
   "metadata": {},
   "source": [
    "``[2, 5, 1] -> [1, 5, 2]``"
   ]
  },
  {
   "cell_type": "code",
   "execution_count": 402,
   "id": "4781e3ac",
   "metadata": {},
   "outputs": [
    {
     "name": "stdout",
     "output_type": "stream",
     "text": [
      "Shape: torch.Size([1, 5, 2])\n",
      "tensor([[[0, 5],\n",
      "         [1, 6],\n",
      "         [2, 7],\n",
      "         [3, 8],\n",
      "         [4, 9]]])\n"
     ]
    }
   ],
   "source": [
    "x = b.transpose(0, 2)    # == y.transpose(2, 0) specify 2 dimensions to swap\n",
    "x = b.permute(2, 1, 0)   # specify the desired ordering for all dimensions\n",
    "print(\"Shape:\", x.shape)\n",
    "print(x)"
   ]
  },
  {
   "cell_type": "markdown",
   "id": "4cc9284e",
   "metadata": {},
   "source": [
    "<h6 style=\"text-align:  center;\"><b> Remove dimension(s) of size 1</b> "
   ]
  },
  {
   "cell_type": "markdown",
   "id": "7f7ac5cd",
   "metadata": {},
   "source": [
    "``[1, 5, 2] -> [2, 5]``"
   ]
  },
  {
   "cell_type": "code",
   "execution_count": 403,
   "id": "2b58083d",
   "metadata": {},
   "outputs": [
    {
     "name": "stdout",
     "output_type": "stream",
     "text": [
      "Shape: torch.Size([5, 2])\n",
      "tensor([[0, 5],\n",
      "        [1, 6],\n",
      "        [2, 7],\n",
      "        [3, 8],\n",
      "        [4, 9]])\n"
     ]
    }
   ],
   "source": [
    "y = x.squeeze(0)\n",
    "print(\"Shape:\", y.shape)\n",
    "print(y)"
   ]
  },
  {
   "cell_type": "markdown",
   "id": "14ee7747",
   "metadata": {},
   "source": [
    "<h6 style=\"text-align:  center;\"><b> Flatten </b> "
   ]
  },
  {
   "cell_type": "markdown",
   "id": "10895af7",
   "metadata": {},
   "source": [
    "``[2, 5] -> [10]``"
   ]
  },
  {
   "cell_type": "code",
   "execution_count": 404,
   "id": "6a7dacc0",
   "metadata": {},
   "outputs": [
    {
     "data": {
      "text/plain": [
       "tensor([0, 5, 1, 6, 2, 7, 3, 8, 4, 9])"
      ]
     },
     "execution_count": 404,
     "metadata": {},
     "output_type": "execute_result"
    }
   ],
   "source": [
    "# flatten\n",
    "t = y.reshape(-1)\n",
    "t"
   ]
  },
  {
   "cell_type": "markdown",
   "id": "5d37bc58",
   "metadata": {},
   "source": [
    "## <h3 style=\"text-align: center;\"><b> Arithmetic operations on tensors </b>"
   ]
  },
  {
   "cell_type": "markdown",
   "id": "cac19709",
   "metadata": {},
   "source": [
    "| Python operator | PyTorch method |\n",
    "|:-:|:-:|\n",
    "|+| torch.add() |\n",
    "|-| torch.sub() |\n",
    "|*| torch.mul() |\n",
    "|/| torch.div() |"
   ]
  },
  {
   "cell_type": "markdown",
   "id": "cec99a3e",
   "metadata": {},
   "source": [
    "<h6 style=\"text-align\"><b> Element-wise operations on tensors</b> "
   ]
  },
  {
   "cell_type": "code",
   "execution_count": 313,
   "id": "f8da0550",
   "metadata": {},
   "outputs": [
    {
     "data": {
      "text/plain": [
       "tensor([nan, 1., 1., 1., 1., 1., 1., 1., 1., 1.])"
      ]
     },
     "execution_count": 313,
     "metadata": {},
     "output_type": "execute_result"
    }
   ],
   "source": [
    "t + t\n",
    "t - t\n",
    "t * t\n",
    "t / t"
   ]
  },
  {
   "cell_type": "code",
   "execution_count": 208,
   "id": "906dffae",
   "metadata": {},
   "outputs": [
    {
     "data": {
      "text/plain": [
       "tensor([  -inf, 1.6094, 0.0000, 1.7918, 0.6931, 1.9459, 1.0986, 2.0794, 1.3863,\n",
       "        2.1972])"
      ]
     },
     "execution_count": 208,
     "metadata": {},
     "output_type": "execute_result"
    }
   ],
   "source": [
    "t.log()"
   ]
  },
  {
   "cell_type": "code",
   "execution_count": 210,
   "id": "420e10c2",
   "metadata": {},
   "outputs": [
    {
     "data": {
      "text/plain": [
       "tensor([1.0000e+00, 1.4841e+02, 2.7183e+00, 4.0343e+02, 7.3891e+00, 1.0966e+03,\n",
       "        2.0086e+01, 2.9810e+03, 5.4598e+01, 8.1031e+03])"
      ]
     },
     "execution_count": 210,
     "metadata": {},
     "output_type": "execute_result"
    }
   ],
   "source": [
    "t.exp()"
   ]
  },
  {
   "cell_type": "code",
   "execution_count": 259,
   "id": "ca2dd3da",
   "metadata": {},
   "outputs": [
    {
     "data": {
      "text/plain": [
       "tensor([0.0000, 2.2361, 1.0000, 2.4495, 1.4142, 2.6458, 1.7321, 2.8284, 2.0000,\n",
       "        3.0000])"
      ]
     },
     "execution_count": 259,
     "metadata": {},
     "output_type": "execute_result"
    }
   ],
   "source": [
    "t.sqrt()"
   ]
  },
  {
   "cell_type": "code",
   "execution_count": 314,
   "id": "8b5c9736",
   "metadata": {},
   "outputs": [
    {
     "data": {
      "text/plain": [
       "tensor([ 0,  1,  4,  9, 16, 25, 36, 49, 64, 81])"
      ]
     },
     "execution_count": 314,
     "metadata": {},
     "output_type": "execute_result"
    }
   ],
   "source": [
    "t.pow(2)"
   ]
  },
  {
   "cell_type": "code",
   "execution_count": null,
   "id": "7d6981a6",
   "metadata": {},
   "outputs": [],
   "source": []
  },
  {
   "cell_type": "markdown",
   "id": "28a316da",
   "metadata": {},
   "source": [
    "## <h3 style=\"text-align: center;\"><b>[Dot product vs Matrix Multiplication](https://mkang32.github.io/python/2020/08/30/numpy-matmul.html) </b>"
   ]
  },
  {
   "attachments": {
    "dot_vs_mm.png": {
     "image/png": "[encoded data removed]"
    }
   },
   "cell_type": "markdown",
   "id": "c6178843",
   "metadata": {},
   "source": [
    "![dot_vs_mm.png](attachment:dot_vs_mm.png)"
   ]
  },
  {
   "cell_type": "markdown",
   "id": "ff269c89",
   "metadata": {},
   "source": [
    "<h6 style=\"text-align\"><b> Dot product</b> "
   ]
  },
  {
   "cell_type": "markdown",
   "id": "490631bc",
   "metadata": {},
   "source": [
    " Computes the inner product of 1D tensors.\\\n",
    " ``(10) @ (10) -> (1) ``"
   ]
  },
  {
   "cell_type": "code",
   "execution_count": 382,
   "id": "a927295f",
   "metadata": {},
   "outputs": [
    {
     "data": {
      "text/plain": [
       "tensor(27.)"
      ]
     },
     "execution_count": 382,
     "metadata": {},
     "output_type": "execute_result"
    }
   ],
   "source": [
    "t.dot(t)                                           # same as (t * t).sum()                             "
   ]
  },
  {
   "cell_type": "markdown",
   "id": "f3d00657",
   "metadata": {},
   "source": [
    "<h6 style=\"text-align\"><b> Matrix multiplication</b> "
   ]
  },
  {
   "cell_type": "markdown",
   "id": "d00e7f7c",
   "metadata": {},
   "source": [
    " Performs a matrix multiplication of 2D tensors.\\\n",
    " **Number of columns in the first tensor should match up with the number of rows in the second tensor!** \\\n",
    " ``(2, 5) @ (5, 2) -> (2, 2) ``"
   ]
  },
  {
   "cell_type": "code",
   "execution_count": 248,
   "id": "5abe2285",
   "metadata": {},
   "outputs": [
    {
     "data": {
      "text/plain": [
       "tensor([[ 30,  80],\n",
       "        [ 80, 255]])"
      ]
     },
     "execution_count": 248,
     "metadata": {},
     "output_type": "execute_result"
    }
   ],
   "source": [
    "torch.mm(y.transpose(0, 1), y)                      # same as y.T @ y   "
   ]
  },
  {
   "cell_type": "markdown",
   "id": "0070b43a",
   "metadata": {},
   "source": [
    "<h6 style=\"text-align\"><b>Batch multiplication</b> "
   ]
  },
  {
   "cell_type": "markdown",
   "id": "c502f80f",
   "metadata": {},
   "source": [
    "Performs a batch matrix-matrix product of 3D tensors. \\\n",
    "``(2, 5, 1) @ (2, 1, 5) -> (2, 5, 5)``"
   ]
  },
  {
   "cell_type": "code",
   "execution_count": 405,
   "id": "5f0a1170",
   "metadata": {},
   "outputs": [
    {
     "data": {
      "text/plain": [
       "tensor([[[ 0,  0,  0,  0,  0],\n",
       "         [ 0,  1,  2,  3,  4],\n",
       "         [ 0,  2,  4,  6,  8],\n",
       "         [ 0,  3,  6,  9, 12],\n",
       "         [ 0,  4,  8, 12, 16]],\n",
       "\n",
       "        [[25, 30, 35, 40, 45],\n",
       "         [30, 36, 42, 48, 54],\n",
       "         [35, 42, 49, 56, 63],\n",
       "         [40, 48, 56, 64, 72],\n",
       "         [45, 54, 63, 72, 81]]])"
      ]
     },
     "execution_count": 405,
     "metadata": {},
     "output_type": "execute_result"
    }
   ],
   "source": [
    "batch_product = torch.bmm(b , b.transpose(1, 2))    # same as b @ b.transpose(1, 2)\n",
    "batch_product"
   ]
  },
  {
   "cell_type": "markdown",
   "id": "564fb1df",
   "metadata": {},
   "source": [
    "<h6 style=\"text-align\"><b>Universal solution for matrix multiplication</b> "
   ]
  },
  {
   "cell_type": "markdown",
   "id": "4fbb8bc1",
   "metadata": {},
   "source": [
    "``torch.matmul(tensor1, tensor2)`` a PyTorch equivalent of Python operator ``@``"
   ]
  },
  {
   "cell_type": "code",
   "execution_count": 410,
   "id": "a1d25bd4",
   "metadata": {},
   "outputs": [
    {
     "data": {
      "text/plain": [
       "tensor([[[ 0,  0,  0,  0,  0],\n",
       "         [ 0,  1,  2,  3,  4],\n",
       "         [ 0,  2,  4,  6,  8],\n",
       "         [ 0,  3,  6,  9, 12],\n",
       "         [ 0,  4,  8, 12, 16]],\n",
       "\n",
       "        [[25, 30, 35, 40, 45],\n",
       "         [30, 36, 42, 48, 54],\n",
       "         [35, 42, 49, 56, 63],\n",
       "         [40, 48, 56, 64, 72],\n",
       "         [45, 54, 63, 72, 81]]])"
      ]
     },
     "execution_count": 410,
     "metadata": {},
     "output_type": "execute_result"
    }
   ],
   "source": [
    "torch.matmul(t, t)                                  # same as torch.dot(t, t)\n",
    "torch.matmul(y.T, y)                                # same as torch.mm(y.T, y)\n",
    "torch.matmul(b, b.transpose(1, 2))                  # same as torch.bmm(b, b.transpose(1, 2))"
   ]
  },
  {
   "cell_type": "markdown",
   "id": "9eb72d77",
   "metadata": {},
   "source": [
    "## <h3 style=\"text-align: center;\"><b> Aggregating operations on tensors </b>"
   ]
  },
  {
   "cell_type": "markdown",
   "id": "9922e526",
   "metadata": {},
   "source": [
    "<h4 style=\"text-align: center;\"><b> sum (dim) / mean (dim) </b>"
   ]
  },
  {
   "cell_type": "code",
   "execution_count": 105,
   "id": "5b0d1e07",
   "metadata": {},
   "outputs": [
    {
     "data": {
      "text/plain": [
       "tensor([[  0,  10,  20,  30,  40],\n",
       "        [175, 210, 245, 280, 315]])"
      ]
     },
     "execution_count": 105,
     "metadata": {},
     "output_type": "execute_result"
    }
   ],
   "source": [
    "batch_product.sum(dim=-1)            # collapsing columns"
   ]
  },
  {
   "cell_type": "code",
   "execution_count": 106,
   "id": "d22dcb9e",
   "metadata": {},
   "outputs": [
    {
     "data": {
      "text/plain": [
       "tensor([[  0,  10,  20,  30,  40],\n",
       "        [175, 210, 245, 280, 315]])"
      ]
     },
     "execution_count": 106,
     "metadata": {},
     "output_type": "execute_result"
    }
   ],
   "source": [
    "batch_product.sum(dim=-2)            # collapsing rows"
   ]
  },
  {
   "cell_type": "markdown",
   "id": "df1d5c6c",
   "metadata": {},
   "source": [
    "After aggregating, you may end up with a one-element tensor,\\\n",
    "you can convert it to a Python numerical value using ``item()``."
   ]
  },
  {
   "cell_type": "code",
   "execution_count": 103,
   "id": "251a3609",
   "metadata": {},
   "outputs": [
    {
     "data": {
      "text/plain": [
       "1325"
      ]
     },
     "execution_count": 103,
     "metadata": {},
     "output_type": "execute_result"
    }
   ],
   "source": [
    "batch_product.sum().item()"
   ]
  },
  {
   "cell_type": "markdown",
   "id": "bd45bc27",
   "metadata": {},
   "source": [
    "<h4 style=\"text-align: center;\"><b> max (dim) / min (dim)</b>"
   ]
  },
  {
   "cell_type": "markdown",
   "id": "a328aff3",
   "metadata": {},
   "source": [
    "Returns a **namedtuple (values, indices)** \\\n",
    "where ``values`` is the maximum/minimum value of each row of the tensor in a given dimension.\\\n",
    "And ``indices`` is the index of each maximum/minimum value found (``argmin``)."
   ]
  },
  {
   "cell_type": "code",
   "execution_count": 92,
   "id": "9c28f20f",
   "metadata": {},
   "outputs": [
    {
     "name": "stdout",
     "output_type": "stream",
     "text": [
      "tensor([[ 0,  4,  8, 12, 16],\n",
      "        [45, 54, 63, 72, 81]])\n",
      "tensor([[0, 4, 4, 4, 4],\n",
      "        [4, 4, 4, 4, 4]])\n"
     ]
    }
   ],
   "source": [
    "values, indices = batch_product.max(dim=1)\n",
    "print(values)\n",
    "print(indices)"
   ]
  },
  {
   "cell_type": "code",
   "execution_count": 70,
   "id": "adcf9f12",
   "metadata": {},
   "outputs": [
    {
     "data": {
      "text/plain": [
       "tensor(81)"
      ]
     },
     "execution_count": 70,
     "metadata": {},
     "output_type": "execute_result"
    }
   ],
   "source": [
    "batch_product.max() "
   ]
  },
  {
   "cell_type": "markdown",
   "id": "b172a37b",
   "metadata": {},
   "source": [
    "<h4 style=\"text-align: center;\"><b> argmax (dim) / argmin (dim)</b> "
   ]
  },
  {
   "cell_type": "markdown",
   "id": "ae2fde9a",
   "metadata": {},
   "source": [
    "Returns the **indices** of the maximum/minimum values of a tensor across a dimension."
   ]
  },
  {
   "cell_type": "code",
   "execution_count": 74,
   "id": "d2f3e3ff",
   "metadata": {},
   "outputs": [
    {
     "data": {
      "text/plain": [
       "tensor([[0, 4, 4, 4, 4],\n",
       "        [4, 4, 4, 4, 4]])"
      ]
     },
     "execution_count": 74,
     "metadata": {},
     "output_type": "execute_result"
    }
   ],
   "source": [
    "batch_product.argmax(dim=1)"
   ]
  },
  {
   "cell_type": "markdown",
   "id": "a02a7fc1",
   "metadata": {},
   "source": [
    "<h4 style=\"text-align: center;\"><b>topk ( k, dim, largest )</b> "
   ]
  },
  {
   "cell_type": "markdown",
   "id": "d60044f1",
   "metadata": {},
   "source": [
    "Returns a **namedtuple of (values, indices)** \\\n",
    "with values and indices of ``k`` largest/smallest elements of a tensor along ``dim``."
   ]
  },
  {
   "cell_type": "code",
   "execution_count": 102,
   "id": "365185b3",
   "metadata": {},
   "outputs": [
    {
     "name": "stdout",
     "output_type": "stream",
     "text": [
      "Values: tensor([[[ 0,  0,  0,  0,  0]],\n",
      "\n",
      "        [[25, 30, 35, 40, 45]]])\n",
      "Indices: tensor([[0, 4, 4, 4, 4],\n",
      "        [4, 4, 4, 4, 4]])\n"
     ]
    }
   ],
   "source": [
    "values, integers = batch_product.topk(k=1, dim=1, largest=False)\n",
    "print(\"Values:\", values)\n",
    "print(\"Indices:\", indices)"
   ]
  },
  {
   "cell_type": "markdown",
   "id": "65a9167a",
   "metadata": {},
   "source": [
    "<h3 style=\"text-align: center;\"><b> Standard NumPy indexing and slicing </b>"
   ]
  },
  {
   "cell_type": "code",
   "execution_count": 115,
   "id": "4789be18",
   "metadata": {},
   "outputs": [
    {
     "name": "stdout",
     "output_type": "stream",
     "text": [
      "First row: tensor([0, 1, 2])\n",
      "First column: tensor([ 0,  3,  6,  9, 12])\n",
      "Last column: tensor([ 2,  5,  8, 11, 14])\n",
      "tensor([[ 0,  0,  2],\n",
      "        [ 3,  0,  5],\n",
      "        [ 6,  0,  8],\n",
      "        [ 9,  0, 11],\n",
      "        [12,  0, 14]])\n"
     ]
    }
   ],
   "source": [
    "tensor = torch.arange(15).view(5, 3)\n",
    "\n",
    "print(f\"First row: {tensor[0]}\")\n",
    "print(f\"First column: {tensor[:, 0]}\")\n",
    "print(f\"Last column: {tensor[..., -1]}\")\n",
    "\n",
    "tensor[:,1] = 0 # zero-out second column\n",
    "print(tensor)"
   ]
  },
  {
   "cell_type": "markdown",
   "id": "3997cf04",
   "metadata": {},
   "source": [
    "<h3 style=\"text-align: center;\"><b> Masked indexing</b>"
   ]
  },
  {
   "cell_type": "code",
   "execution_count": 230,
   "id": "95f8f8e1",
   "metadata": {},
   "outputs": [
    {
     "name": "stdout",
     "output_type": "stream",
     "text": [
      "tensor([[0, 1, 2],\n",
      "        [3, 4, 5],\n",
      "        [6, 7, 8]])\n",
      "tensor([[ 0, -1,  2],\n",
      "        [ 3,  4,  5],\n",
      "        [-6,  7, -8]])\n"
     ]
    }
   ],
   "source": [
    "a = torch.arange(9)\n",
    "b = torch.clone(a)      # creates a copy of tensor a\n",
    "\n",
    "# generating random indices and performing assignment \n",
    "negative_indices = torch.randint(low=0, high=9, size=(4,))\n",
    "b[negative_indices] = b[negative_indices] * (-1) \n",
    "\n",
    "# reshaping from 1d to 2d\n",
    "a = a.view(3, 3)\n",
    "b = b.view(3, 3)\n",
    "\n",
    "print(a)\n",
    "print(b)"
   ]
  },
  {
   "cell_type": "markdown",
   "id": "19a21069",
   "metadata": {},
   "source": [
    "<h6 style=\"text-align\"><b>Computes element-wise equality</b> "
   ]
  },
  {
   "cell_type": "code",
   "execution_count": 371,
   "id": "9686ec8d",
   "metadata": {},
   "outputs": [
    {
     "data": {
      "text/plain": [
       "tensor([[False,  True, False],\n",
       "        [False, False, False],\n",
       "        [False, False, False]])"
      ]
     },
     "execution_count": 371,
     "metadata": {},
     "output_type": "execute_result"
    }
   ],
   "source": [
    "a.eq(b)                   # same as a == b "
   ]
  },
  {
   "cell_type": "markdown",
   "id": "022bf914",
   "metadata": {},
   "source": [
    "<h6 style=\"text-align\"><b>Computes element-wise disequality</b> "
   ]
  },
  {
   "cell_type": "code",
   "execution_count": 372,
   "id": "4b5d015b",
   "metadata": {},
   "outputs": [
    {
     "data": {
      "text/plain": [
       "tensor([[ True, False,  True],\n",
       "        [ True,  True,  True],\n",
       "        [ True,  True,  True]])"
      ]
     },
     "execution_count": 372,
     "metadata": {},
     "output_type": "execute_result"
    }
   ],
   "source": [
    "a.ne(b)                    # same as a != b "
   ]
  },
  {
   "cell_type": "markdown",
   "id": "750b6880",
   "metadata": {},
   "source": [
    "<h6 style=\"text-align\"><b>Selecting elements via boolean mask</b> "
   ]
  },
  {
   "cell_type": "code",
   "execution_count": 232,
   "id": "9ed4134c",
   "metadata": {},
   "outputs": [
    {
     "data": {
      "text/plain": [
       "tensor([-1, -6, -8])"
      ]
     },
     "execution_count": 232,
     "metadata": {},
     "output_type": "execute_result"
    }
   ],
   "source": [
    "b[a > b]"
   ]
  },
  {
   "cell_type": "markdown",
   "id": "e0a56083",
   "metadata": {},
   "source": [
    "## <h3 style=\"text-align: center;\"><b> Joining multiple tensors </b>"
   ]
  },
  {
   "cell_type": "code",
   "execution_count": 165,
   "id": "b74362a7",
   "metadata": {},
   "outputs": [
    {
     "data": {
      "text/plain": [
       "(tensor([[0, 1, 2],\n",
       "         [3, 4, 5]]),\n",
       " tensor([[0, 1, 2],\n",
       "         [3, 4, 5]]))"
      ]
     },
     "execution_count": 165,
     "metadata": {},
     "output_type": "execute_result"
    }
   ],
   "source": [
    "# create 2 tensors \n",
    "t1 = torch.arange(6).view(2, 3)\n",
    "t2 = torch.arange(6).view(2, 3)\n",
    "t1, t2"
   ]
  },
  {
   "cell_type": "markdown",
   "id": "7f60bdeb",
   "metadata": {},
   "source": [
    "<h4 style=\"text-align: center;\"><b>torch.cat ( (tensors), dim=0 )</b> "
   ]
  },
  {
   "cell_type": "code",
   "execution_count": 155,
   "id": "0ed82ceb",
   "metadata": {},
   "outputs": [
    {
     "name": "stdout",
     "output_type": "stream",
     "text": [
      "Concat tensors one on top of the other (default):\n",
      "tensor([[0, 1, 2],\n",
      "        [3, 4, 5],\n",
      "        [0, 1, 2],\n",
      "        [3, 4, 5]])\n"
     ]
    }
   ],
   "source": [
    "print(\"Concat tensors one on top of the other (default):\")\n",
    "print(torch.cat((t1, t2), dim=0))"
   ]
  },
  {
   "cell_type": "code",
   "execution_count": 156,
   "id": "7e1013cb",
   "metadata": {},
   "outputs": [
    {
     "name": "stdout",
     "output_type": "stream",
     "text": [
      "Concat tensors side by side:\n",
      "tensor([[0, 1, 2, 0, 1, 2],\n",
      "        [3, 4, 5, 3, 4, 5]])\n"
     ]
    }
   ],
   "source": [
    "print(\"Concat tensors side by side:\")\n",
    "print(torch.cat((t1, t2), dim=1))"
   ]
  },
  {
   "cell_type": "markdown",
   "id": "51dca32b",
   "metadata": {},
   "source": [
    "<h4 style=\"text-align: center;\"><b>torch.stack ( (tensors), dim=0 )</b> "
   ]
  },
  {
   "cell_type": "markdown",
   "id": "faecc8a5",
   "metadata": {},
   "source": [
    "``dim`` is a new dimension to insert"
   ]
  },
  {
   "cell_type": "code",
   "execution_count": 167,
   "id": "f7646b1f",
   "metadata": {},
   "outputs": [
    {
     "data": {
      "text/plain": [
       "tensor([[[0, 1, 2],\n",
       "         [3, 4, 5]],\n",
       "\n",
       "        [[0, 1, 2],\n",
       "         [3, 4, 5]]])"
      ]
     },
     "execution_count": 167,
     "metadata": {},
     "output_type": "execute_result"
    }
   ],
   "source": [
    "torch.stack((t1, t2), dim=0)"
   ]
  },
  {
   "cell_type": "markdown",
   "id": "c104af33",
   "metadata": {},
   "source": [
    "**Difference between ``torch.stack`` and ``torch.cat``** :\\\n",
    "``torch.stack`` creates a new dimension to stack tensors, while ``torch.cat`` not."
   ]
  },
  {
   "cell_type": "markdown",
   "id": "0ef46889",
   "metadata": {},
   "source": [
    "## <h3 style=\"text-align: center;\"><b> Practice </b>"
   ]
  },
  {
   "cell_type": "markdown",
   "id": "8677c64e",
   "metadata": {},
   "source": [
    "1. Create a 2D tensor and add a batch dimension of size 1\n",
    "2. Create a random tensor of shape 5x3 in the interval [3, 7)\n",
    "3. Create a tensor with values from a normal with mean=0, std=3\n",
    "4. Perform a batch product between 3D tensors\n",
    "5. Return a batch matrix product between a 3D tensor and a 2D tensor"
   ]
  },
  {
   "cell_type": "markdown",
   "id": "4e7c5ce2",
   "metadata": {},
   "source": [
    "### Cross-Entropy Loss\n",
    "CE makes a strong assumption, that each input has one particular class, and each class is associated with a unique index.\n",
    "We assume that class 1 is associated with index 0, class 2 is associated with index 1, and class 3 is associated with index 2. Relying on this assumption, the ``target`` tensor is treated as a tensor of indices, and is precisely used to index the model output, i.e. to access the predicted membership probability for the correct class only."
   ]
  },
  {
   "cell_type": "code",
   "execution_count": null,
   "id": "fb93407d",
   "metadata": {},
   "outputs": [],
   "source": [
    "ce_loss = nn.CrossEntropyLoss(reduction=\"none\")\n",
    "\n",
    "# containing class probabilities\n",
    "outputs = torch.randn(5, 3)\n",
    "\n",
    "# containing class indices\n",
    "targets = torch.LongTensor([1, 0, 2, 1, 1]) # int tensor\n",
    "\n",
    "print(outputs)\n",
    "loss = ce_loss(outputs, targets)\n",
    "print(loss)"
   ]
  },
  {
   "cell_type": "markdown",
   "id": "ff4552b8",
   "metadata": {},
   "source": [
    "When creating a tensor with ``requires_grad=True``, you are requiring PyTorch to manage bookeeping information that computes gradients. To actually compute the gradients we need to call the ``backward`` method on a tensor produced as a result of some computation (this is typically a tensor resulting from the evaluation of a loss function). The gradients are typically required for the parameters of the network, i.e. weights and biases, and can be thought of as the parameter's contribution to the error signal. You can access the gradients via the ``.grad`` attribute of the tensor. Optimizers internally use the ``.grad`` variable to update the values of the parameters."
   ]
  },
  {
   "cell_type": "code",
   "execution_count": null,
   "id": "7b78f9b7",
   "metadata": {},
   "outputs": [],
   "source": [
    "# Computation graph\n",
    "\n",
    "x = torch.ones(2, 3)\n",
    "w = torch.rand(1, 3, requires_grad=True)\n",
    "b = torch.zeros(1, requires_grad=True)\n",
    "y = (w * x) + b\n",
    "print(y)\n",
    "y = y.mean()\n",
    "y.backward()\n",
    "w.grad, b.grad"
   ]
  }
 ],
 "metadata": {
  "kernelspec": {
   "display_name": "Python 3 (ipykernel)",
   "language": "python",
   "name": "python3"
  },
  "language_info": {
   "codemirror_mode": {
    "name": "ipython",
    "version": 3
   },
   "file_extension": ".py",
   "mimetype": "text/x-python",
   "name": "python",
   "nbconvert_exporter": "python",
   "pygments_lexer": "ipython3",
   "version": "3.10.8"
  }
 },
 "nbformat": 4,
 "nbformat_minor": 5
}
