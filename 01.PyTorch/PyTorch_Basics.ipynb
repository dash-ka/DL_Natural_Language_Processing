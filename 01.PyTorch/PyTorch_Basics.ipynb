{
 "cells": [
  {
   "cell_type": "markdown",
   "id": "18f70036",
   "metadata": {},
   "source": [
    "<p style=\"align: center;\"><img src=\"http://upload.wikimedia.org/wikipedia/commons/9/96/Pytorch_logo.png\" width=400 height=100></p>"
   ]
  },
  {
   "cell_type": "markdown",
   "id": "0fe0e7cc",
   "metadata": {},
   "source": [
    "## <h3 style=\"text-align: center;\"><b>Installing PyTorch</b>"
   ]
  },
  {
   "cell_type": "markdown",
   "id": "448ded3a",
   "metadata": {},
   "source": [
    "Go to [pytorch.org](https://pytorch.org/) and install PyTorch version choosing your system preferences."
   ]
  },
  {
   "cell_type": "code",
   "execution_count": 1,
   "id": "e5f641bb",
   "metadata": {},
   "outputs": [],
   "source": [
    "import torch"
   ]
  },
  {
   "cell_type": "markdown",
   "id": "5290d855",
   "metadata": {},
   "source": [
    "PyTorch is a deep learning framework, build on 3 main components.\n",
    "\n",
    "$$ PyTorch = NumPy + CUDA +Autograd$$\n",
    "\n",
    "PyTorch works with ``tensor`` data structure, which is similar to NumPy's ``ndarray``, except that:\n",
    " 1. tensors can run on GPUs or other hardware accelerators via [CUDA](http://en.wikipedia.org/wiki/CUDA)\n",
    " 2. tensors are also optimized for automatic differentiation (Autograd)\n",
    "\n",
    "Tensor is a multi-dimensional array:\n",
    "- a scalar is a zero dimensional tensor : `` x = 9 # shape ([])``\n",
    "- a vector, is a 1d tensor : `` y = [9, 5, 10] # shape ([3])``\n",
    "- a matrix is a 2d tensor : `` z = [[9, 5, 10], [12, 6, 3]] # shape ([2, 3])``\n",
    "- a 3d array is a 3d tensor: `` t = [[[9, 5, 10], [12, 6, 3]], [[7, 4, 11], [2, 13, 8]]] # shape ([2, 2, 3])``"
   ]
  },
  {
   "cell_type": "markdown",
   "id": "bd63e384",
   "metadata": {},
   "source": [
    "## <h3 style=\"text-align: center;\"><b> Creating a tensor</b>"
   ]
  },
  {
   "cell_type": "markdown",
   "id": "81df3529",
   "metadata": {},
   "source": [
    "There are a few ways to create a tensor, depending on your use case:\n",
    "1. directly from pre-existing data, like Python list or any sequence, NumPy array, etc.\n",
    "2. creating a tensor with a specific shape, filled with random or constant values\n",
    "3. from another tensor, keeping its shape and type"
   ]
  },
  {
   "cell_type": "markdown",
   "id": "e44fb3f3",
   "metadata": {},
   "source": [
    " To create a tensor with pre-existing data, use ``torch.tensor()``"
   ]
  },
  {
   "cell_type": "code",
   "execution_count": 2,
   "id": "372f008f",
   "metadata": {},
   "outputs": [
    {
     "data": {
      "text/plain": [
       "tensor([1, 2, 3])"
      ]
     },
     "execution_count": 2,
     "metadata": {},
     "output_type": "execute_result"
    }
   ],
   "source": [
    "# create a 1D tensor from a Python list.\n",
    "data = [1, 2, 3]\n",
    "torch.tensor(data) #, dtype=torch.float32, device=\"cpu\", requires_grad=True) # The data type is automatically inferred."
   ]
  },
  {
   "cell_type": "code",
   "execution_count": 3,
   "id": "b2c05da3",
   "metadata": {},
   "outputs": [
    {
     "data": {
      "text/plain": [
       "tensor([[1, 2, 3],\n",
       "        [4, 5, 6]], dtype=torch.int32)"
      ]
     },
     "execution_count": 3,
     "metadata": {},
     "output_type": "execute_result"
    }
   ],
   "source": [
    "# create a 2D tensor from a numpy matrix\n",
    "import numpy as np\n",
    "\n",
    "data = np.array([[1, 2, 3], [4, 5, 6]])\n",
    "torch.tensor(data)"
   ]
  },
  {
   "cell_type": "markdown",
   "id": "c374635d",
   "metadata": {},
   "source": [
    "<h6 style=\"text-align\"><b> From NumPy to PyTorch and viceversa</b>"
   ]
  },
  {
   "cell_type": "code",
   "execution_count": 4,
   "id": "86290016",
   "metadata": {},
   "outputs": [
    {
     "data": {
      "text/plain": [
       "array([[1, 2, 3],\n",
       "       [4, 5, 6]])"
      ]
     },
     "execution_count": 4,
     "metadata": {},
     "output_type": "execute_result"
    }
   ],
   "source": [
    "import numpy as np\n",
    "np_array = np.array(data)\n",
    "\n",
    "t = torch.from_numpy(np_array)    # creates a tensor that shares storage with a NumPy array\n",
    "t.numpy()                         # back to numpy"
   ]
  },
  {
   "cell_type": "markdown",
   "id": "c6f2c2ae",
   "metadata": {},
   "source": [
    "<h6 style=\"text-align: center;\"><b> Tensors of a specific data type </b>"
   ]
  },
  {
   "cell_type": "markdown",
   "id": "65fa68de",
   "metadata": {},
   "source": [
    "To create a tensor having a predefined shape and a specific type use a constructor for that data type.\\\n",
    "You need to pass in the shape of your tensor as a tuple of ints, specifying the number of elements in each dimension.\\\n",
    "The constructor will create a tensor with a given shape and fill it with trash."
   ]
  },
  {
   "cell_type": "code",
   "execution_count": 5,
   "id": "1069c73d",
   "metadata": {},
   "outputs": [
    {
     "data": {
      "text/plain": [
       "torch.DoubleTensor"
      ]
     },
     "execution_count": 5,
     "metadata": {},
     "output_type": "execute_result"
    }
   ],
   "source": [
    "# Commonly used tensor types:\n",
    "\n",
    "torch.IntTensor       # torch.32int  == torch.int\n",
    "torch.LongTensor      # torch.64int  == torch.long\n",
    "\n",
    "torch.FloatTensor     # torch.32float == torch.float\n",
    "torch.DoubleTensor    # torch.64float == torch.double"
   ]
  },
  {
   "cell_type": "code",
   "execution_count": 6,
   "id": "4ccdc76e",
   "metadata": {},
   "outputs": [
    {
     "data": {
      "text/plain": [
       "tensor([0, 0, 0, 0, 0, 0, 0, 0, 0, 0], dtype=torch.int32)"
      ]
     },
     "execution_count": 6,
     "metadata": {},
     "output_type": "execute_result"
    }
   ],
   "source": [
    "# create a 1D integer tensor\n",
    "\n",
    "x = torch.IntTensor(10)   \n",
    "x"
   ]
  },
  {
   "cell_type": "code",
   "execution_count": 7,
   "id": "85150caa",
   "metadata": {},
   "outputs": [
    {
     "data": {
      "text/plain": [
       "tensor([[[0., 0., 0., 0., 0.],\n",
       "         [0., 0., 0., 0., 0.]],\n",
       "\n",
       "        [[0., 0., 0., 0., 0.],\n",
       "         [0., 0., 0., 0., 0.]]])"
      ]
     },
     "execution_count": 7,
     "metadata": {},
     "output_type": "execute_result"
    }
   ],
   "source": [
    "# create a 3D floaing point tensor\n",
    "\n",
    "x = torch.FloatTensor(2, 2, 5)    #same as torch.Tensor(shape)\n",
    "x"
   ]
  },
  {
   "cell_type": "code",
   "execution_count": 8,
   "id": "223d8d4a",
   "metadata": {},
   "outputs": [
    {
     "data": {
      "text/plain": [
       "tensor([[False, False],\n",
       "        [False, False],\n",
       "        [False, False]])"
      ]
     },
     "execution_count": 8,
     "metadata": {},
     "output_type": "execute_result"
    }
   ],
   "source": [
    "# create a 2D boolean tensor \n",
    "\n",
    "x = torch.BoolTensor(3, 2)\n",
    "x"
   ]
  },
  {
   "cell_type": "markdown",
   "id": "a4ffcda6",
   "metadata": {},
   "source": [
    "### <h3 style=\"text-align: center;\"><b> Initializing a tensor</b>"
   ]
  },
  {
   "cell_type": "markdown",
   "id": "9dff5162",
   "metadata": {},
   "source": [
    "You can initialize a tensor with random values sampled from some distribution or fill it with a constant value.\\\n",
    "Use familiar functions as in NumPy: ``torch.zeros()``,  ``torch.ones()``, ``torch.rand()``, ``torch.ones_like()``, etc."
   ]
  },
  {
   "cell_type": "markdown",
   "id": "d892c37f",
   "metadata": {},
   "source": [
    " "
   ]
  },
  {
   "cell_type": "markdown",
   "id": "97e75560",
   "metadata": {},
   "source": [
    "<h6 style=\"text-align: center;\"><b> Dummy tensors of zeros and ones </b>"
   ]
  },
  {
   "cell_type": "code",
   "execution_count": 9,
   "id": "566af935",
   "metadata": {},
   "outputs": [
    {
     "data": {
      "text/plain": [
       "tensor([[0., 0., 0., 0.],\n",
       "        [0., 0., 0., 0.]])"
      ]
     },
     "execution_count": 9,
     "metadata": {},
     "output_type": "execute_result"
    }
   ],
   "source": [
    "torch.zeros(2, 4)                             # initialize with zeros"
   ]
  },
  {
   "cell_type": "code",
   "execution_count": 10,
   "id": "5c5a84ae",
   "metadata": {},
   "outputs": [
    {
     "data": {
      "text/plain": [
       "tensor([[1., 1., 1., 1.],\n",
       "        [1., 1., 1., 1.]])"
      ]
     },
     "execution_count": 10,
     "metadata": {},
     "output_type": "execute_result"
    }
   ],
   "source": [
    "torch.ones(2, 4)                              # initialize with ones"
   ]
  },
  {
   "cell_type": "markdown",
   "id": "3d23b341",
   "metadata": {},
   "source": [
    "<h6 style=\"text-align: center;\"><b>Sampling values uniformly from [0, 1) </b>"
   ]
  },
  {
   "cell_type": "code",
   "execution_count": 11,
   "id": "d9492ba5",
   "metadata": {},
   "outputs": [
    {
     "data": {
      "text/plain": [
       "tensor([[0.3765, 0.2289, 0.1797, 0.4866],\n",
       "        [0.2766, 0.7027, 0.2213, 0.3312]])"
      ]
     },
     "execution_count": 11,
     "metadata": {},
     "output_type": "execute_result"
    }
   ],
   "source": [
    "torch.rand(2, 4)                          # FloatTensor from Uniform[0, 1)        "
   ]
  },
  {
   "cell_type": "markdown",
   "id": "a05247d3",
   "metadata": {},
   "source": [
    "<h6 style=\"text-align: center;\"><b>Sampling integers uniformly from [low, high) </b>"
   ]
  },
  {
   "cell_type": "code",
   "execution_count": 12,
   "id": "fef69369",
   "metadata": {},
   "outputs": [
    {
     "data": {
      "text/plain": [
       "tensor([[5, 4, 2, 6],\n",
       "        [6, 2, 6, 5]])"
      ]
     },
     "execution_count": 12,
     "metadata": {},
     "output_type": "execute_result"
    }
   ],
   "source": [
    "torch.randint(low=2, high=7, size=(2, 4))   # IntTensor from Uniform[2, 7)"
   ]
  },
  {
   "cell_type": "markdown",
   "id": "e02b7a27",
   "metadata": {},
   "source": [
    "<h6 style=\"text-align: center;\"><b>Sampling from normal distribution</b>"
   ]
  },
  {
   "cell_type": "code",
   "execution_count": 13,
   "id": "b2cb6437",
   "metadata": {},
   "outputs": [
    {
     "data": {
      "text/plain": [
       "tensor([[6.7647, 4.7727, 6.0059, 6.2774],\n",
       "        [4.4821, 5.2869, 5.1658, 0.0220]])"
      ]
     },
     "execution_count": 13,
     "metadata": {},
     "output_type": "execute_result"
    }
   ],
   "source": [
    "torch.randn(2, 4)                          # FloatTensor from Normal(0, 1) \n",
    "torch.normal(mean=5, std=2, size=(2, 4))   # FloatTensor from Normal(5, 2)"
   ]
  },
  {
   "cell_type": "markdown",
   "id": "4ad66571",
   "metadata": {},
   "source": [
    " "
   ]
  },
  {
   "cell_type": "markdown",
   "id": "c4bcf383",
   "metadata": {},
   "source": [
    "<h4 style=\"text-align: center;\"><b> Changing the content of an existing tensor </b>"
   ]
  },
  {
   "cell_type": "markdown",
   "id": "8d34e4c1",
   "metadata": {},
   "source": [
    "\n",
    "Most PyTorch functions have an equivalent method with an underscore ``_``,\\\n",
    "which modifies the object in place, instead of creating a copy of the original object."
   ]
  },
  {
   "cell_type": "code",
   "execution_count": 29,
   "id": "b1acf6f3",
   "metadata": {},
   "outputs": [
    {
     "data": {
      "text/plain": [
       "tensor([[1.3445e+22, 6.6012e-07, 4.1729e-08],\n",
       "        [8.5454e-07, 2.1156e+23, 1.6852e+22]])"
      ]
     },
     "execution_count": 29,
     "metadata": {},
     "output_type": "execute_result"
    }
   ],
   "source": [
    "t = torch.FloatTensor(2, 3)\n",
    "t"
   ]
  },
  {
   "cell_type": "code",
   "execution_count": 30,
   "id": "83da04f6",
   "metadata": {},
   "outputs": [
    {
     "data": {
      "text/plain": [
       "tensor([[0., 0., 0.],\n",
       "        [0., 0., 0.]])"
      ]
     },
     "execution_count": 30,
     "metadata": {},
     "output_type": "execute_result"
    }
   ],
   "source": [
    "t.zero_()    "
   ]
  },
  {
   "cell_type": "code",
   "execution_count": 26,
   "id": "b0ad7c0e",
   "metadata": {},
   "outputs": [
    {
     "data": {
      "text/plain": [
       "tensor([[8., 8., 8.],\n",
       "        [8., 8., 8.]])"
      ]
     },
     "execution_count": 26,
     "metadata": {},
     "output_type": "execute_result"
    }
   ],
   "source": [
    "t.zero_()                   # replace all values with zeros\n",
    "t.uniform_()                # replace with values from a continuous random Uniform[from, to)\n",
    "t.normal_(mean=3)           # replace with values from a Normal(mean, std) \n",
    "t.fill_(8)                  # fill tensor with a constant value"
   ]
  },
  {
   "cell_type": "markdown",
   "id": "3b1b0e84",
   "metadata": {},
   "source": [
    "## <h3 style=\"text-align: center;\"><b> Attributes of a Tensor </b>"
   ]
  },
  {
   "cell_type": "markdown",
   "id": "a266e31b",
   "metadata": {},
   "source": [
    "Tensor attributes describe their shape, datatype, and the device on which they are stored."
   ]
  },
  {
   "cell_type": "code",
   "execution_count": 27,
   "id": "aa5d22c5",
   "metadata": {},
   "outputs": [
    {
     "name": "stdout",
     "output_type": "stream",
     "text": [
      "tensor([[8., 8., 8.],\n",
      "        [8., 8., 8.]])\n",
      "Shape: torch.Size([2, 3])\n",
      "Type: torch.float32\n",
      "Device: cpu\n"
     ]
    }
   ],
   "source": [
    "print(t)\n",
    "print(\"Shape:\",   t.shape)  #  t.size()\n",
    "print(\"Type:\",    t.dtype)  #  t.type()\n",
    "print(\"Device:\",  t.device)"
   ]
  },
  {
   "cell_type": "markdown",
   "id": "1bdd5226",
   "metadata": {},
   "source": [
    "<h4 style=\"text-align: center;\"><b> Changing tensor's type </b>"
   ]
  },
  {
   "cell_type": "code",
   "execution_count": 33,
   "id": "4dca8b78",
   "metadata": {},
   "outputs": [
    {
     "data": {
      "text/plain": [
       "tensor([[False, False, False],\n",
       "        [False, False, False]])"
      ]
     },
     "execution_count": 33,
     "metadata": {},
     "output_type": "execute_result"
    }
   ],
   "source": [
    "t = t.to(torch.bool)\n",
    "t"
   ]
  },
  {
   "cell_type": "markdown",
   "id": "6d6e85af",
   "metadata": {},
   "source": [
    "<h4 style=\"text-align: center;\"><b> Changing tensor's device </b>"
   ]
  },
  {
   "cell_type": "markdown",
   "id": "b0f6da88",
   "metadata": {},
   "source": [
    "We can use both CPU (Central Processing Unit) and GPU (Graphical Processing Unit) to make the computations with PyTorch.\\\n",
    "By default all tensors are allocated on the CPU memory, where the computation is performed.\\\n",
    "If you have a GPU, you can access its memory via a specialized API called CUDA.\\\n",
    "Move tensors from cpu to cuda and viceversa by using the ``.to(device)`` method. "
   ]
  },
  {
   "cell_type": "code",
   "execution_count": 34,
   "id": "2111047b",
   "metadata": {},
   "outputs": [
    {
     "data": {
      "text/plain": [
       "device(type='cuda', index=0)"
      ]
     },
     "execution_count": 34,
     "metadata": {},
     "output_type": "execute_result"
    }
   ],
   "source": [
    "t = t.to(\"cuda\")\n",
    "t.device"
   ]
  },
  {
   "cell_type": "code",
   "execution_count": 19,
   "id": "249a1135",
   "metadata": {},
   "outputs": [],
   "source": [
    "# can change dtype and device at the same time\n",
    "t = t.to(\"cpu\", torch.double)"
   ]
  },
  {
   "cell_type": "markdown",
   "id": "05a49c6f",
   "metadata": {},
   "source": [
    "<h4 style=\"text-align: center;\"><b> Specify dtype and device at creation time </b>"
   ]
  },
  {
   "cell_type": "code",
   "execution_count": 35,
   "id": "e2839702",
   "metadata": {},
   "outputs": [
    {
     "data": {
      "text/plain": [
       "torch.int64"
      ]
     },
     "execution_count": 35,
     "metadata": {},
     "output_type": "execute_result"
    }
   ],
   "source": [
    "t = torch.tensor([1,2,3,4,5], dtype = torch.long, device=\"cpu\")\n",
    "t.dtype"
   ]
  },
  {
   "cell_type": "markdown",
   "id": "b542a8e6",
   "metadata": {},
   "source": [
    "<h6 style=\"text-align\"><b> 1. Check if cuda is available</b>"
   ]
  },
  {
   "cell_type": "code",
   "execution_count": 36,
   "id": "b3ca0b58",
   "metadata": {},
   "outputs": [
    {
     "data": {
      "text/plain": [
       "True"
      ]
     },
     "execution_count": 36,
     "metadata": {},
     "output_type": "execute_result"
    }
   ],
   "source": [
    "torch.cuda.is_available()"
   ]
  },
  {
   "cell_type": "markdown",
   "id": "05584c0b",
   "metadata": {},
   "source": [
    "<h6 style=\"text-align\"><b> 2. Move tensor to device </b>"
   ]
  },
  {
   "cell_type": "code",
   "execution_count": 380,
   "id": "ab443e12",
   "metadata": {},
   "outputs": [
    {
     "name": "stdout",
     "output_type": "stream",
     "text": [
      "Device: cpu\n"
     ]
    }
   ],
   "source": [
    "t = t.to(\"cuda\")                    # t.cpu() or t.cuda()\n",
    "t.device"
   ]
  },
  {
   "cell_type": "markdown",
   "id": "b9dd746d",
   "metadata": {},
   "source": [
    "<h6 style=\"text-align\"><b> Perform computations on GPU and move the results to CPU </b>"
   ]
  },
  {
   "cell_type": "markdown",
   "id": "8396cb07",
   "metadata": {},
   "source": [
    "<h3 style=\"text-align: center;\"><b> Example </b>"
   ]
  },
  {
   "cell_type": "code",
   "execution_count": 41,
   "id": "937da277",
   "metadata": {},
   "outputs": [
    {
     "data": {
      "text/plain": [
       "device(type='cpu')"
      ]
     },
     "execution_count": 41,
     "metadata": {},
     "output_type": "execute_result"
    }
   ],
   "source": [
    "device = \"cuda\" if torch.cuda.is_available() else \"cpu\"\n",
    "\n",
    "a = torch.FloatTensor(5, 2).uniform_()\n",
    "b = torch.clone(a)\n",
    "\n",
    "c = (a.to(device) + b.to(device))\n",
    "c.to(\"cpu\").device"
   ]
  },
  {
   "cell_type": "markdown",
   "id": "ed2fd879",
   "metadata": {},
   "source": [
    "<h6 style=\"text-align\"><b> To perform computations all tensors need to be on the same device ! </b>"
   ]
  },
  {
   "cell_type": "code",
   "execution_count": null,
   "id": "1f2f79ba",
   "metadata": {},
   "outputs": [],
   "source": [
    "a.cpu() + b.cuda() # will raise an error: expected all tensors to be on the same device, but found two devices"
   ]
  },
  {
   "cell_type": "markdown",
   "id": "7701c210",
   "metadata": {},
   "source": [
    "## <h3 style=\"text-align: center;\"><b> Reshaping a tensor </b>"
   ]
  },
  {
   "cell_type": "code",
   "execution_count": 43,
   "id": "a868a72e",
   "metadata": {},
   "outputs": [
    {
     "data": {
      "text/plain": [
       "tensor([0, 1, 2, 3, 4, 5, 6, 7, 8, 9])"
      ]
     },
     "execution_count": 43,
     "metadata": {},
     "output_type": "execute_result"
    }
   ],
   "source": [
    "# create a 1D tensor filled with values in a given range\n",
    "t = torch.arange(0, 10, step=1) # [start=0, end=10, step=1)\n",
    "t"
   ]
  },
  {
   "cell_type": "markdown",
   "id": "ba7458d6",
   "metadata": {},
   "source": [
    " <h6 style=\"text-align: center;\"><b>Reshape from 1d to 2d </b> "
   ]
  },
  {
   "cell_type": "markdown",
   "id": "8e9ecfda",
   "metadata": {},
   "source": [
    "``[10] -> [2, 5]``"
   ]
  },
  {
   "cell_type": "markdown",
   "id": "6496ff12",
   "metadata": {},
   "source": [
    "Method ``.view()`` returns a view of the original tensor.  \n",
    "The returned tensor shares the same data and must have the same number of elements, but may have a different size. \\\n",
    "Both tensors also share the same memory storage, meaning that all changes to the new tensor will affect the original tensor."
   ]
  },
  {
   "cell_type": "code",
   "execution_count": 44,
   "id": "c005e2a1",
   "metadata": {},
   "outputs": [
    {
     "data": {
      "text/plain": [
       "tensor([[0, 1, 2, 3, 4],\n",
       "        [5, 6, 7, 8, 9]])"
      ]
     },
     "execution_count": 44,
     "metadata": {},
     "output_type": "execute_result"
    }
   ],
   "source": [
    "y = t.view(2, 5) \n",
    "y "
   ]
  },
  {
   "cell_type": "code",
   "execution_count": 321,
   "id": "db885e6d",
   "metadata": {},
   "outputs": [
    {
     "data": {
      "text/plain": [
       "tensor([[0, 1, 2, 3, 4],\n",
       "        [5, 6, 7, 8, 9]])"
      ]
     },
     "execution_count": 321,
     "metadata": {},
     "output_type": "execute_result"
    }
   ],
   "source": [
    "# the size -1 is inferred from other dimensions\n",
    "t.view(2, -1)  "
   ]
  },
  {
   "cell_type": "code",
   "execution_count": 45,
   "id": "53bc8804",
   "metadata": {},
   "outputs": [
    {
     "data": {
      "text/plain": [
       "tensor([[0, 1],\n",
       "        [2, 3],\n",
       "        [4, 5],\n",
       "        [6, 7],\n",
       "        [8, 9]])"
      ]
     },
     "execution_count": 45,
     "metadata": {},
     "output_type": "execute_result"
    }
   ],
   "source": [
    "t.view(-1, 2)"
   ]
  },
  {
   "cell_type": "code",
   "execution_count": 323,
   "id": "6e74ab40",
   "metadata": {},
   "outputs": [
    {
     "data": {
      "text/plain": [
       "tensor([0, 1, 2, 3, 4, 5, 6, 7, 8, 9])"
      ]
     },
     "execution_count": 323,
     "metadata": {},
     "output_type": "execute_result"
    }
   ],
   "source": [
    "# flattening all dimensions\n",
    "t.view(-1)"
   ]
  },
  {
   "cell_type": "code",
   "execution_count": 324,
   "id": "70e159a6",
   "metadata": {},
   "outputs": [
    {
     "data": {
      "text/plain": [
       "tensor([10, 10, 10, 10, 10,  5,  6,  7,  8,  9])"
      ]
     },
     "execution_count": 324,
     "metadata": {},
     "output_type": "execute_result"
    }
   ],
   "source": [
    "# Since y and t share the storage, any assignment to y will change t\n",
    "y[0] = 10 \n",
    "t         "
   ]
  },
  {
   "cell_type": "markdown",
   "id": "2fe6d190",
   "metadata": {},
   "source": [
    "#### View VS Reshape"
   ]
  },
  {
   "cell_type": "code",
   "execution_count": 284,
   "id": "29d70cbc",
   "metadata": {},
   "outputs": [
    {
     "data": {
      "text/plain": [
       "True"
      ]
     },
     "execution_count": 284,
     "metadata": {},
     "output_type": "execute_result"
    }
   ],
   "source": [
    "y = t.reshape(2, 5) # may create a copy\n",
    "y.is_contiguous()"
   ]
  },
  {
   "cell_type": "markdown",
   "id": "a465b623",
   "metadata": {},
   "source": [
    "``view()`` will try to change the shape of the tensor while keeping the underlying data allocation the same,\\\n",
    "``reshape()`` will create a new underlying memory allocation if necessary."
   ]
  },
  {
   "attachments": {
    "ContiguousTensor2.png": {
     "image/png": "[encoded data removed]"
    }
   },
   "cell_type": "markdown",
   "id": "6dbe58dd",
   "metadata": {},
   "source": [
    "![ContiguousTensor2.png](attachment:ContiguousTensor2.png)"
   ]
  },
  {
   "cell_type": "code",
   "execution_count": 285,
   "id": "35de87f3",
   "metadata": {},
   "outputs": [
    {
     "data": {
      "text/plain": [
       "False"
      ]
     },
     "execution_count": 285,
     "metadata": {},
     "output_type": "execute_result"
    }
   ],
   "source": [
    "# a transpose is no longer a contiiguous tensor\n",
    "y = t.T\n",
    "y.is_contiguous()"
   ]
  },
  {
   "cell_type": "code",
   "execution_count": 310,
   "id": "fb6799af",
   "metadata": {},
   "outputs": [
    {
     "ename": "RuntimeError",
     "evalue": "view size is not compatible with input tensor's size and stride (at least one dimension spans across two contiguous subspaces). Use .reshape(...) instead.",
     "output_type": "error",
     "traceback": [
      "\u001b[1;31m---------------------------------------------------------------------------\u001b[0m",
      "\u001b[1;31mRuntimeError\u001b[0m                              Traceback (most recent call last)",
      "Input \u001b[1;32mIn [310]\u001b[0m, in \u001b[0;36m<cell line: 1>\u001b[1;34m()\u001b[0m\n\u001b[1;32m----> 1\u001b[0m \u001b[43my\u001b[49m\u001b[38;5;241;43m.\u001b[39;49m\u001b[43mview\u001b[49m\u001b[43m(\u001b[49m\u001b[38;5;241;43m2\u001b[39;49m\u001b[43m,\u001b[49m\u001b[43m \u001b[49m\u001b[38;5;241;43m5\u001b[39;49m\u001b[43m)\u001b[49m\n",
      "\u001b[1;31mRuntimeError\u001b[0m: view size is not compatible with input tensor's size and stride (at least one dimension spans across two contiguous subspaces). Use .reshape(...) instead."
     ]
    }
   ],
   "source": [
    "y.view(2, 5)"
   ]
  },
  {
   "cell_type": "code",
   "execution_count": null,
   "id": "841dc7dd",
   "metadata": {},
   "outputs": [],
   "source": [
    "# solution 1:\n",
    "y.contiguous() # creates a copy\n",
    "\n",
    "#solution 2:\n",
    "y.reshape() # creates a copy"
   ]
  },
  {
   "cell_type": "code",
   "execution_count": 309,
   "id": "a56b3e2c",
   "metadata": {},
   "outputs": [
    {
     "data": {
      "text/plain": [
       " 0\n",
       " 5\n",
       " 1\n",
       " 6\n",
       " 2\n",
       " 7\n",
       " 3\n",
       " 8\n",
       " 4\n",
       " 9\n",
       "[torch.storage.TypedStorage(dtype=torch.int64, device=cpu) of size 10]"
      ]
     },
     "execution_count": 309,
     "metadata": {},
     "output_type": "execute_result"
    }
   ],
   "source": [
    "y.contiguous().storage()"
   ]
  },
  {
   "cell_type": "markdown",
   "id": "0e191d01",
   "metadata": {},
   "source": [
    "<h6 style=\"text-align:  center;\"><b> Add/Remove a dummy dimension of size 1</b> "
   ]
  },
  {
   "cell_type": "markdown",
   "id": "ef4661e6",
   "metadata": {},
   "source": [
    "``[2, 5] -> [1, 2, 5]``"
   ]
  },
  {
   "cell_type": "code",
   "execution_count": 48,
   "id": "342cd7d3",
   "metadata": {},
   "outputs": [
    {
     "data": {
      "text/plain": [
       "torch.Size([2, 5, 1])"
      ]
     },
     "execution_count": 48,
     "metadata": {},
     "output_type": "execute_result"
    }
   ],
   "source": [
    "# Returns a new tensor with a dimension of size one inserted at the specified position\n",
    "b = y.unsqueeze(2)\n",
    "b.shape"
   ]
  },
  {
   "cell_type": "markdown",
   "id": "bbbe6a82",
   "metadata": {},
   "source": [
    "``[1, 2, 5] -> [2, 5]``"
   ]
  },
  {
   "cell_type": "code",
   "execution_count": 49,
   "id": "29e43deb",
   "metadata": {},
   "outputs": [
    {
     "data": {
      "text/plain": [
       "tensor([[0, 1, 2, 3, 4],\n",
       "        [5, 6, 7, 8, 9]])"
      ]
     },
     "execution_count": 49,
     "metadata": {},
     "output_type": "execute_result"
    }
   ],
   "source": [
    "# Returns a tensor with all the dimensions of size `1` removed.\n",
    "b.squeeze() "
   ]
  },
  {
   "cell_type": "code",
   "execution_count": null,
   "id": "f734ab1d",
   "metadata": {},
   "outputs": [],
   "source": []
  },
  {
   "cell_type": "code",
   "execution_count": null,
   "id": "4bec47ff",
   "metadata": {},
   "outputs": [],
   "source": []
  },
  {
   "cell_type": "code",
   "execution_count": null,
   "id": "93f053d7",
   "metadata": {},
   "outputs": [],
   "source": []
  },
  {
   "cell_type": "code",
   "execution_count": null,
   "id": "10360ccd",
   "metadata": {},
   "outputs": [],
   "source": []
  },
  {
   "cell_type": "code",
   "execution_count": 329,
   "id": "ce52cb40",
   "metadata": {},
   "outputs": [
    {
     "name": "stdout",
     "output_type": "stream",
     "text": [
      "Shape: torch.Size([2, 5])\n",
      "tensor([[0, 1, 2, 3, 4],\n",
      "        [5, 6, 7, 8, 9]])\n"
     ]
    }
   ],
   "source": [
    "y = torch.arange(0, 10, step=1).view(2, 5)\n",
    "\n",
    "print(\"Shape:\", y.shape)\n",
    "print(y)"
   ]
  },
  {
   "cell_type": "markdown",
   "id": "5fea37e8",
   "metadata": {},
   "source": [
    "<h6 style=\"text-align:  center;\"><b> Insert a new dimension of size 1</b> "
   ]
  },
  {
   "cell_type": "markdown",
   "id": "51352622",
   "metadata": {},
   "source": [
    "``[2, 5] -> [2, 5, 1]``"
   ]
  },
  {
   "cell_type": "code",
   "execution_count": 148,
   "id": "90292086",
   "metadata": {},
   "outputs": [
    {
     "name": "stdout",
     "output_type": "stream",
     "text": [
      "Shape: torch.Size([2, 5, 1])\n",
      "tensor([[[0],\n",
      "         [1],\n",
      "         [2],\n",
      "         [3],\n",
      "         [4]],\n",
      "\n",
      "        [[5],\n",
      "         [6],\n",
      "         [7],\n",
      "         [8],\n",
      "         [9]]])\n"
     ]
    }
   ],
   "source": [
    "b = y.unsqueeze(2) \n",
    "print(\"Shape:\", b.shape)\n",
    "print(b)"
   ]
  },
  {
   "cell_type": "markdown",
   "id": "8452545a",
   "metadata": {},
   "source": [
    "<h6 style=\"text-align:  center;\"><b> Expand dimension(s) of size 1 to a larger size</b> "
   ]
  },
  {
   "cell_type": "markdown",
   "id": "7c2a25c6",
   "metadata": {},
   "source": [
    "``[2, 5, 1] -> [2, 5, 10]``"
   ]
  },
  {
   "cell_type": "code",
   "execution_count": 149,
   "id": "ca828783",
   "metadata": {},
   "outputs": [
    {
     "data": {
      "text/plain": [
       "tensor([[[0, 0, 0, 0, 0, 0, 0, 0, 0, 0],\n",
       "         [1, 1, 1, 1, 1, 1, 1, 1, 1, 1],\n",
       "         [2, 2, 2, 2, 2, 2, 2, 2, 2, 2],\n",
       "         [3, 3, 3, 3, 3, 3, 3, 3, 3, 3],\n",
       "         [4, 4, 4, 4, 4, 4, 4, 4, 4, 4]],\n",
       "\n",
       "        [[5, 5, 5, 5, 5, 5, 5, 5, 5, 5],\n",
       "         [6, 6, 6, 6, 6, 6, 6, 6, 6, 6],\n",
       "         [7, 7, 7, 7, 7, 7, 7, 7, 7, 7],\n",
       "         [8, 8, 8, 8, 8, 8, 8, 8, 8, 8],\n",
       "         [9, 9, 9, 9, 9, 9, 9, 9, 9, 9]]])"
      ]
     },
     "execution_count": 149,
     "metadata": {},
     "output_type": "execute_result"
    }
   ],
   "source": [
    "b.expand(-1, -1, 10) # passing -1  as the size for a dimension means not changing the size of that dimension"
   ]
  },
  {
   "cell_type": "markdown",
   "id": "cfdf6303",
   "metadata": {},
   "source": [
    "<h6 style=\"text-align:  center;\"><b> Exchange the order of dimenstions </b> "
   ]
  },
  {
   "cell_type": "markdown",
   "id": "81cbeff8",
   "metadata": {},
   "source": [
    "``[2, 5, 1] -> [1, 5, 2]``"
   ]
  },
  {
   "cell_type": "code",
   "execution_count": 151,
   "id": "4781e3ac",
   "metadata": {},
   "outputs": [
    {
     "name": "stdout",
     "output_type": "stream",
     "text": [
      "tensor([[[0, 5],\n",
      "         [1, 6],\n",
      "         [2, 7],\n",
      "         [3, 8],\n",
      "         [4, 9]]])\n"
     ]
    }
   ],
   "source": [
    "x = b.transpose(0, 2)    # Swaps 1nd and 3rd dimension\n",
    "x = b.permute(2, 1, 0)   # specify the desired ordering for all dimensions\n",
    "\n",
    "print(x)"
   ]
  },
  {
   "cell_type": "markdown",
   "id": "4cc9284e",
   "metadata": {},
   "source": [
    "<h6 style=\"text-align:  center;\"><b> Remove dimension(s) of size 1</b> "
   ]
  },
  {
   "cell_type": "markdown",
   "id": "7f7ac5cd",
   "metadata": {},
   "source": [
    "``[1, 5, 2] -> [2, 5]``"
   ]
  },
  {
   "cell_type": "code",
   "execution_count": 328,
   "id": "2b58083d",
   "metadata": {},
   "outputs": [
    {
     "data": {
      "text/plain": [
       "tensor([[ 1.2709,  1.0186, -0.1586, -2.0512, -1.0564],\n",
       "        [ 1.1229, -2.4668, -1.6884,  0.0581, -0.6765]])"
      ]
     },
     "execution_count": 328,
     "metadata": {},
     "output_type": "execute_result"
    }
   ],
   "source": [
    "y = x.squeeze(0)\n",
    "y"
   ]
  },
  {
   "cell_type": "markdown",
   "id": "14ee7747",
   "metadata": {},
   "source": [
    "<h6 style=\"text-align:  center;\"><b> Flatten </b> "
   ]
  },
  {
   "cell_type": "markdown",
   "id": "10895af7",
   "metadata": {},
   "source": [
    "``[2, 5] -> [10]``"
   ]
  },
  {
   "cell_type": "code",
   "execution_count": 136,
   "id": "6a7dacc0",
   "metadata": {},
   "outputs": [
    {
     "data": {
      "text/plain": [
       "tensor([0, 5, 1, 6, 2, 7, 3, 8, 4, 9])"
      ]
     },
     "execution_count": 136,
     "metadata": {},
     "output_type": "execute_result"
    }
   ],
   "source": [
    "# flatten\n",
    "t = y.reshape(-1)\n",
    "t"
   ]
  },
  {
   "cell_type": "markdown",
   "id": "65a9167a",
   "metadata": {},
   "source": [
    "<h3 style=\"text-align: center;\"><b> Standard NumPy indexing and slicing </b>"
   ]
  },
  {
   "cell_type": "code",
   "execution_count": 204,
   "id": "1a42a028",
   "metadata": {},
   "outputs": [
    {
     "data": {
      "text/plain": [
       "tensor([[ 0,  1,  2],\n",
       "        [ 3,  4,  5],\n",
       "        [ 6,  7,  8],\n",
       "        [ 9, 10, 11],\n",
       "        [12, 13, 14]])"
      ]
     },
     "execution_count": 204,
     "metadata": {},
     "output_type": "execute_result"
    }
   ],
   "source": [
    "t = torch.arange(15).view(5, 3)\n",
    "t"
   ]
  },
  {
   "cell_type": "code",
   "execution_count": 202,
   "id": "4789be18",
   "metadata": {},
   "outputs": [
    {
     "name": "stdout",
     "output_type": "stream",
     "text": [
      "First row: tensor([0, 1, 2])\n",
      "First column: tensor([ 0,  3,  6,  9, 12])\n",
      "Second and third values in the last column: tensor([5, 8])\n"
     ]
    }
   ],
   "source": [
    "# specify indexes and slices inside [], separated by comma \n",
    "print(\"First row:\",  t[0])\n",
    "print(\"First column:\", t[:, 0])\n",
    "print(\"Second and third values in the last column:\", t[[1, 2], -1])"
   ]
  },
  {
   "cell_type": "code",
   "execution_count": 171,
   "id": "7d6981a6",
   "metadata": {},
   "outputs": [
    {
     "name": "stdout",
     "output_type": "stream",
     "text": [
      "tensor([[ 0,  0,  2],\n",
      "        [ 3,  0,  5],\n",
      "        [ 6,  0,  8],\n",
      "        [ 9,  0, 11],\n",
      "        [12,  0, 14]])\n"
     ]
    }
   ],
   "source": [
    "t[:, 1] = 0 # zero-out second column\n",
    "print(t)"
   ]
  },
  {
   "cell_type": "markdown",
   "id": "750b6880",
   "metadata": {},
   "source": [
    "<h6 style=\"text-align\"><b>Selecting elements via boolean mask</b> "
   ]
  },
  {
   "cell_type": "code",
   "execution_count": 254,
   "id": "9ed4134c",
   "metadata": {},
   "outputs": [
    {
     "data": {
      "text/plain": [
       "tensor([0, 1, 2, 3, 4])"
      ]
     },
     "execution_count": 254,
     "metadata": {},
     "output_type": "execute_result"
    }
   ],
   "source": [
    "t[t < 5]"
   ]
  },
  {
   "cell_type": "markdown",
   "id": "5d37bc58",
   "metadata": {},
   "source": [
    "## <h3 style=\"text-align: center;\"><b> Arithmetic operations on tensors </b>"
   ]
  },
  {
   "cell_type": "markdown",
   "id": "cac19709",
   "metadata": {},
   "source": [
    "| Python operator | PyTorch method |\n",
    "|:-:|:-:|\n",
    "|+| torch.add() |\n",
    "|-| torch.sub() |\n",
    "|*| torch.mul() |\n",
    "|/| torch.div() |"
   ]
  },
  {
   "cell_type": "markdown",
   "id": "cec99a3e",
   "metadata": {},
   "source": [
    "<h6 style=\"text-align\"><b> Element-wise operations on tensors</b> "
   ]
  },
  {
   "cell_type": "code",
   "execution_count": 313,
   "id": "f8da0550",
   "metadata": {},
   "outputs": [
    {
     "data": {
      "text/plain": [
       "tensor([nan, 1., 1., 1., 1., 1., 1., 1., 1., 1.])"
      ]
     },
     "execution_count": 313,
     "metadata": {},
     "output_type": "execute_result"
    }
   ],
   "source": [
    "t + t\n",
    "t - t\n",
    "t * t\n",
    "t / t"
   ]
  },
  {
   "cell_type": "code",
   "execution_count": 208,
   "id": "906dffae",
   "metadata": {},
   "outputs": [
    {
     "data": {
      "text/plain": [
       "tensor([  -inf, 1.6094, 0.0000, 1.7918, 0.6931, 1.9459, 1.0986, 2.0794, 1.3863,\n",
       "        2.1972])"
      ]
     },
     "execution_count": 208,
     "metadata": {},
     "output_type": "execute_result"
    }
   ],
   "source": [
    "t.log()"
   ]
  },
  {
   "cell_type": "code",
   "execution_count": 210,
   "id": "420e10c2",
   "metadata": {},
   "outputs": [
    {
     "data": {
      "text/plain": [
       "tensor([1.0000e+00, 1.4841e+02, 2.7183e+00, 4.0343e+02, 7.3891e+00, 1.0966e+03,\n",
       "        2.0086e+01, 2.9810e+03, 5.4598e+01, 8.1031e+03])"
      ]
     },
     "execution_count": 210,
     "metadata": {},
     "output_type": "execute_result"
    }
   ],
   "source": [
    "t.exp()"
   ]
  },
  {
   "cell_type": "code",
   "execution_count": 259,
   "id": "ca2dd3da",
   "metadata": {},
   "outputs": [
    {
     "data": {
      "text/plain": [
       "tensor([0.0000, 2.2361, 1.0000, 2.4495, 1.4142, 2.6458, 1.7321, 2.8284, 2.0000,\n",
       "        3.0000])"
      ]
     },
     "execution_count": 259,
     "metadata": {},
     "output_type": "execute_result"
    }
   ],
   "source": [
    "t.sqrt()"
   ]
  },
  {
   "cell_type": "code",
   "execution_count": 314,
   "id": "8b5c9736",
   "metadata": {},
   "outputs": [
    {
     "data": {
      "text/plain": [
       "tensor([ 0,  1,  4,  9, 16, 25, 36, 49, 64, 81])"
      ]
     },
     "execution_count": 314,
     "metadata": {},
     "output_type": "execute_result"
    }
   ],
   "source": [
    "t.pow(2)"
   ]
  },
  {
   "cell_type": "markdown",
   "id": "9eb72d77",
   "metadata": {},
   "source": [
    "## <h3 style=\"text-align: center;\"><b> Aggregating operations on tensors </b>"
   ]
  },
  {
   "cell_type": "markdown",
   "id": "99b0034a",
   "metadata": {},
   "source": [
    "Aggregating functions as in NumPy: ``sum()``, ``mean()``, ``min()``, ``max()``.\\\n",
    "Aggragation can operate along a give axis, that you specify with ``dim`` parameter. "
   ]
  },
  {
   "cell_type": "code",
   "execution_count": 51,
   "id": "23bd15ee",
   "metadata": {},
   "outputs": [
    {
     "data": {
      "text/plain": [
       "tensor([[1, 2, 3],\n",
       "        [4, 5, 6]])"
      ]
     },
     "execution_count": 51,
     "metadata": {},
     "output_type": "execute_result"
    }
   ],
   "source": [
    "t = torch.tensor([[1,2,3], [4,5,6]])\n",
    "t"
   ]
  },
  {
   "cell_type": "markdown",
   "id": "9922e526",
   "metadata": {},
   "source": [
    "<h4 style=\"text-align: center;\"><b> sum (dim) / mean (dim) </b>"
   ]
  },
  {
   "cell_type": "code",
   "execution_count": 190,
   "id": "5b0d1e07",
   "metadata": {},
   "outputs": [
    {
     "data": {
      "text/plain": [
       "tensor([5, 7, 9])"
      ]
     },
     "execution_count": 190,
     "metadata": {},
     "output_type": "execute_result"
    }
   ],
   "source": [
    "t.sum(dim=0)           # collapsing rows"
   ]
  },
  {
   "cell_type": "code",
   "execution_count": 191,
   "id": "d22dcb9e",
   "metadata": {},
   "outputs": [
    {
     "data": {
      "text/plain": [
       "tensor([ 6, 15])"
      ]
     },
     "execution_count": 191,
     "metadata": {},
     "output_type": "execute_result"
    }
   ],
   "source": [
    "t.sum(dim=1)          # collapsing columns"
   ]
  },
  {
   "cell_type": "markdown",
   "id": "df1d5c6c",
   "metadata": {},
   "source": [
    "After aggregating, you may end up with a one-element tensor,\\\n",
    "you can convert it to a Python numerical value using ``item()``."
   ]
  },
  {
   "cell_type": "code",
   "execution_count": 53,
   "id": "251a3609",
   "metadata": {},
   "outputs": [
    {
     "data": {
      "text/plain": [
       "21"
      ]
     },
     "execution_count": 53,
     "metadata": {},
     "output_type": "execute_result"
    }
   ],
   "source": [
    "t.sum().item()"
   ]
  },
  {
   "cell_type": "markdown",
   "id": "bd45bc27",
   "metadata": {},
   "source": [
    "<h4 style=\"text-align: center;\"><b> max (dim) / min (dim)</b>"
   ]
  },
  {
   "cell_type": "markdown",
   "id": "a328aff3",
   "metadata": {},
   "source": [
    "Returns a **namedtuple (values, indices)** \\\n",
    "where ``values`` is the maximum/minimum value of each row of the tensor in a given dimension.\\\n",
    "And ``indices`` is the index of each maximum/minimum value found (``argmin``)."
   ]
  },
  {
   "cell_type": "code",
   "execution_count": 193,
   "id": "9c28f20f",
   "metadata": {},
   "outputs": [
    {
     "name": "stdout",
     "output_type": "stream",
     "text": [
      "tensor([3, 6])\n",
      "tensor([2, 2])\n"
     ]
    }
   ],
   "source": [
    "values, indices = t.max(dim=1) # find max in each row\n",
    "print(values)\n",
    "print(indices)"
   ]
  },
  {
   "cell_type": "code",
   "execution_count": 188,
   "id": "adcf9f12",
   "metadata": {},
   "outputs": [
    {
     "data": {
      "text/plain": [
       "2"
      ]
     },
     "execution_count": 188,
     "metadata": {},
     "output_type": "execute_result"
    }
   ],
   "source": [
    "t.max().item() # find a global maximum"
   ]
  },
  {
   "cell_type": "markdown",
   "id": "b172a37b",
   "metadata": {},
   "source": [
    "<h4 style=\"text-align: center;\"><b> argmax (dim) / argmin (dim)</b> "
   ]
  },
  {
   "cell_type": "markdown",
   "id": "ae2fde9a",
   "metadata": {},
   "source": [
    "Returns the **indices** of the maximum/minimum values of a tensor across a dimension."
   ]
  },
  {
   "cell_type": "code",
   "execution_count": 194,
   "id": "d2f3e3ff",
   "metadata": {},
   "outputs": [
    {
     "data": {
      "text/plain": [
       "tensor([2, 2])"
      ]
     },
     "execution_count": 194,
     "metadata": {},
     "output_type": "execute_result"
    }
   ],
   "source": [
    "t.argmax(dim=1)"
   ]
  },
  {
   "cell_type": "markdown",
   "id": "a02a7fc1",
   "metadata": {},
   "source": [
    "<h4 style=\"text-align: center;\"><b>topk ( k, dim, largest )</b> "
   ]
  },
  {
   "cell_type": "markdown",
   "id": "d60044f1",
   "metadata": {},
   "source": [
    "Returns a **namedtuple of (values, indices)** \\\n",
    "with values and indices of ``k`` largest/smallest elements of a tensor along ``dim``."
   ]
  },
  {
   "cell_type": "code",
   "execution_count": 195,
   "id": "365185b3",
   "metadata": {},
   "outputs": [
    {
     "name": "stdout",
     "output_type": "stream",
     "text": [
      "Values: tensor([[1],\n",
      "        [4]])\n",
      "Indices: tensor([2, 2])\n"
     ]
    }
   ],
   "source": [
    "values, integers = t.topk(k=1, dim=1, largest=False)\n",
    "print(\"Values:\", values)\n",
    "print(\"Indices:\", indices)"
   ]
  },
  {
   "cell_type": "markdown",
   "id": "28a316da",
   "metadata": {},
   "source": [
    "## <h3 style=\"text-align: center;\"><b>[Dot product vs Matrix Multiplication](https://mkang32.github.io/python/2020/08/30/numpy-matmul.html) </b>"
   ]
  },
  {
   "attachments": {
    "dot_vs_mm.png": {
     "image/png": "[encoded data removed]"
    }
   },
   "cell_type": "markdown",
   "id": "c6178843",
   "metadata": {},
   "source": [
    "![dot_vs_mm.png](attachment:dot_vs_mm.png)"
   ]
  },
  {
   "cell_type": "markdown",
   "id": "ff269c89",
   "metadata": {},
   "source": [
    "<h4 style=\"text-align\"><b> Dot product</b> "
   ]
  },
  {
   "cell_type": "code",
   "execution_count": 46,
   "id": "6d008673",
   "metadata": {},
   "outputs": [],
   "source": [
    "# create two 1D tensors\n",
    "a = torch.arange(0, 10)\n",
    "b = torch.clone(a)"
   ]
  },
  {
   "cell_type": "markdown",
   "id": "490631bc",
   "metadata": {},
   "source": [
    " Computes the inner product of 1D tensors.\\\n",
    " ``(10) @ (10) -> (1) ``"
   ]
  },
  {
   "cell_type": "code",
   "execution_count": 50,
   "id": "a927295f",
   "metadata": {},
   "outputs": [
    {
     "data": {
      "text/plain": [
       "tensor(285)"
      ]
     },
     "execution_count": 50,
     "metadata": {},
     "output_type": "execute_result"
    }
   ],
   "source": [
    "a.dot(b)                                           # same as a @ b                           "
   ]
  },
  {
   "cell_type": "code",
   "execution_count": 51,
   "id": "f2a74ad1",
   "metadata": {},
   "outputs": [
    {
     "data": {
      "text/plain": [
       "tensor(285)"
      ]
     },
     "execution_count": 51,
     "metadata": {},
     "output_type": "execute_result"
    }
   ],
   "source": [
    "a @ b"
   ]
  },
  {
   "cell_type": "markdown",
   "id": "f3d00657",
   "metadata": {},
   "source": [
    "<h4 style=\"text-align\"><b> Matrix multiplication</b> "
   ]
  },
  {
   "cell_type": "code",
   "execution_count": 73,
   "id": "74ab6eb0",
   "metadata": {},
   "outputs": [],
   "source": [
    "# Number of columns in the first tensor should match up with the number of rows in the second tensor!\n",
    "\n",
    "a = torch.randn(2, 5) #shape (2, 5)\n",
    "b = a.transpose(0, 1) #shape (5, 2)"
   ]
  },
  {
   "cell_type": "markdown",
   "id": "d00e7f7c",
   "metadata": {},
   "source": [
    " ``torch.mm(tensor1, tensor2)`` Performs a matrix multiplication of 2D tensors.\\\n",
    "  ``(2, 5) @ (5, 2) -> (2, 2) ``"
   ]
  },
  {
   "cell_type": "code",
   "execution_count": 64,
   "id": "5abe2285",
   "metadata": {},
   "outputs": [
    {
     "data": {
      "text/plain": [
       "tensor([[1.8894, 0.3328],\n",
       "        [0.3328, 8.9961]])"
      ]
     },
     "execution_count": 64,
     "metadata": {},
     "output_type": "execute_result"
    }
   ],
   "source": [
    "torch.mm(a, b)       # same as a @ a.T"
   ]
  },
  {
   "cell_type": "code",
   "execution_count": 65,
   "id": "f9cf27c1",
   "metadata": {},
   "outputs": [
    {
     "data": {
      "text/plain": [
       "tensor([[1.8894, 0.3328],\n",
       "        [0.3328, 8.9961]])"
      ]
     },
     "execution_count": 65,
     "metadata": {},
     "output_type": "execute_result"
    }
   ],
   "source": [
    "a @ b"
   ]
  },
  {
   "cell_type": "markdown",
   "id": "0070b43a",
   "metadata": {},
   "source": [
    "<h4 style=\"text-align\"><b>Batch multiplication</b> "
   ]
  },
  {
   "cell_type": "code",
   "execution_count": 74,
   "id": "0d484b6f",
   "metadata": {},
   "outputs": [
    {
     "data": {
      "text/plain": [
       "(torch.Size([1, 2, 5]), torch.Size([1, 5, 2]))"
      ]
     },
     "execution_count": 74,
     "metadata": {},
     "output_type": "execute_result"
    }
   ],
   "source": [
    "a = a.unsqueeze(0)      #shape: (1, 2, 5)\n",
    "b = a.transpose(1, 2)   #shape: (1, 5, 2)\n",
    "a.shape, b.shape"
   ]
  },
  {
   "cell_type": "markdown",
   "id": "c502f80f",
   "metadata": {},
   "source": [
    "``torch.bmm(tensor1, tensor2)`` Performs a batch matrix-matrix product of 3D tensors. \\\n",
    "``(1, 2, 5) @ (1, 5, 2) -> (1, 2, 2)``"
   ]
  },
  {
   "cell_type": "code",
   "execution_count": 75,
   "id": "5f0a1170",
   "metadata": {},
   "outputs": [
    {
     "data": {
      "text/plain": [
       "tensor([[[5.6995, 0.5569],\n",
       "         [0.5569, 4.1483]]])"
      ]
     },
     "execution_count": 75,
     "metadata": {},
     "output_type": "execute_result"
    }
   ],
   "source": [
    "torch.bmm(a, b)    # same as b @ b.transpose(1, 2)"
   ]
  },
  {
   "cell_type": "code",
   "execution_count": 57,
   "id": "851ca1e1",
   "metadata": {},
   "outputs": [
    {
     "data": {
      "text/plain": [
       "tensor([[[ 30,  80],\n",
       "         [ 80, 255]]])"
      ]
     },
     "execution_count": 57,
     "metadata": {},
     "output_type": "execute_result"
    }
   ],
   "source": [
    "a @ b"
   ]
  },
  {
   "cell_type": "markdown",
   "id": "564fb1df",
   "metadata": {},
   "source": [
    "<h4 style=\"text-align\"><b>Universal solution for matrix multiplication</b> "
   ]
  },
  {
   "cell_type": "markdown",
   "id": "4fbb8bc1",
   "metadata": {},
   "source": [
    "``torch.matmul(tensor1, tensor2)`` a PyTorch equivalent of Python operator ``@``.\\\n",
    "Performs the product on two last dimensions of tensors."
   ]
  },
  {
   "cell_type": "markdown",
   "id": "00859dbb",
   "metadata": {},
   "source": [
    "### Exercise"
   ]
  },
  {
   "cell_type": "markdown",
   "id": "2d280862",
   "metadata": {},
   "source": [
    "Let's write one neuron that transforms a tensor of features X, by multiplying it with a vector of weights, and applies a sigmoid activation."
   ]
  },
  {
   "cell_type": "code",
   "execution_count": 54,
   "id": "01667ea8",
   "metadata": {},
   "outputs": [],
   "source": [
    "def forward_pass(inputs, weights):\n",
    "    return torch.sigmoid(inputs @ weights)"
   ]
  },
  {
   "cell_type": "code",
   "execution_count": 55,
   "id": "78399b22",
   "metadata": {},
   "outputs": [
    {
     "name": "stdout",
     "output_type": "stream",
     "text": [
      "tensor([[ 0.5905,  0.8062, -1.3452,  1.4567, -0.1275],\n",
      "        [ 0.3778,  0.7697, -0.8817, -1.0119,  1.4523]]) tensor([ 0.6872,  1.7585, -1.0055,  0.7218, -0.0412])\n"
     ]
    },
    {
     "data": {
      "text/plain": [
       "tensor([0.9857, 0.8468])"
      ]
     },
     "execution_count": 55,
     "metadata": {},
     "output_type": "execute_result"
    }
   ],
   "source": [
    "# create some data\n",
    "x = torch.randn(2, 5)\n",
    "weights = torch.randn(5)\n",
    "print(x, weights)\n",
    "\n",
    "# transform features\n",
    "forward_pass(x, weights)"
   ]
  },
  {
   "cell_type": "markdown",
   "id": "e0a56083",
   "metadata": {},
   "source": [
    "## <h3 style=\"text-align: center;\"><b> Joining multiple tensors </b>"
   ]
  },
  {
   "cell_type": "code",
   "execution_count": 165,
   "id": "b74362a7",
   "metadata": {},
   "outputs": [
    {
     "data": {
      "text/plain": [
       "(tensor([[0, 1, 2],\n",
       "         [3, 4, 5]]),\n",
       " tensor([[0, 1, 2],\n",
       "         [3, 4, 5]]))"
      ]
     },
     "execution_count": 165,
     "metadata": {},
     "output_type": "execute_result"
    }
   ],
   "source": [
    "# create 2 tensors \n",
    "t1 = torch.arange(6).view(2, 3)\n",
    "t2 = torch.arange(6).view(2, 3)\n",
    "t1, t2"
   ]
  },
  {
   "cell_type": "markdown",
   "id": "7f60bdeb",
   "metadata": {},
   "source": [
    "<h4 style=\"text-align: center;\"><b>torch.cat ( (tensors), dim=0 )</b> "
   ]
  },
  {
   "cell_type": "code",
   "execution_count": 155,
   "id": "0ed82ceb",
   "metadata": {},
   "outputs": [
    {
     "name": "stdout",
     "output_type": "stream",
     "text": [
      "Concat tensors one on top of the other (default):\n",
      "tensor([[0, 1, 2],\n",
      "        [3, 4, 5],\n",
      "        [0, 1, 2],\n",
      "        [3, 4, 5]])\n"
     ]
    }
   ],
   "source": [
    "print(\"Concat tensors one on top of the other (default):\")\n",
    "print(torch.cat((t1, t2), dim=0))"
   ]
  },
  {
   "cell_type": "code",
   "execution_count": 156,
   "id": "7e1013cb",
   "metadata": {},
   "outputs": [
    {
     "name": "stdout",
     "output_type": "stream",
     "text": [
      "Concat tensors side by side:\n",
      "tensor([[0, 1, 2, 0, 1, 2],\n",
      "        [3, 4, 5, 3, 4, 5]])\n"
     ]
    }
   ],
   "source": [
    "print(\"Concat tensors side by side:\")\n",
    "print(torch.cat((t1, t2), dim=1))"
   ]
  },
  {
   "cell_type": "markdown",
   "id": "51dca32b",
   "metadata": {},
   "source": [
    "<h4 style=\"text-align: center;\"><b>torch.stack ( (tensors), dim=0 )</b> "
   ]
  },
  {
   "cell_type": "markdown",
   "id": "faecc8a5",
   "metadata": {},
   "source": [
    "``dim`` is a new dimension to insert"
   ]
  },
  {
   "cell_type": "code",
   "execution_count": 167,
   "id": "f7646b1f",
   "metadata": {},
   "outputs": [
    {
     "data": {
      "text/plain": [
       "tensor([[[0, 1, 2],\n",
       "         [3, 4, 5]],\n",
       "\n",
       "        [[0, 1, 2],\n",
       "         [3, 4, 5]]])"
      ]
     },
     "execution_count": 167,
     "metadata": {},
     "output_type": "execute_result"
    }
   ],
   "source": [
    "torch.stack((t1, t2), dim=0)"
   ]
  },
  {
   "cell_type": "markdown",
   "id": "c104af33",
   "metadata": {},
   "source": [
    "**Difference between ``torch.stack`` and ``torch.cat``** :\\\n",
    "``torch.stack`` creates a new dimension to stack tensors, while ``torch.cat`` not."
   ]
  },
  {
   "cell_type": "code",
   "execution_count": 24,
   "id": "7b78f9b7",
   "metadata": {},
   "outputs": [
    {
     "name": "stdout",
     "output_type": "stream",
     "text": [
      "tensor([[0.9491, 0.7620, 0.8040],\n",
      "        [0.9491, 0.7620, 0.8040]], grad_fn=<AddBackward0>)\n"
     ]
    },
    {
     "data": {
      "text/plain": [
       "(tensor([[0.3333, 0.3333, 0.3333]]), tensor([1.]))"
      ]
     },
     "execution_count": 24,
     "metadata": {},
     "output_type": "execute_result"
    }
   ],
   "source": [
    "# Computation graph\n",
    "\n",
    "x = torch.ones(2, 3)\n",
    "w = torch.rand(1, 3, requires_grad=True)\n",
    "b = torch.zeros(1, requires_grad=True)\n",
    "y = (w * x) + b\n",
    "print(y)\n",
    "y = y.mean()\n",
    "y.backward()\n",
    "w.grad, b.grad"
   ]
  },
  {
   "cell_type": "markdown",
   "id": "0ef46889",
   "metadata": {},
   "source": [
    "## <h3 style=\"text-align: center;\"><b> Practice </b>"
   ]
  },
  {
   "cell_type": "markdown",
   "id": "8677c64e",
   "metadata": {},
   "source": [
    "1. Create a 2D tensor and add a batch dimension of size 1\n",
    "2. Create a random tensor of shape 5x3 in the interval [3, 7)\n",
    "3. Create a tensor with values from a normal with mean=0, std=3\n",
    "4. Perform a batch product between 3D tensors\n",
    "5. Return a batch matrix product between a 3D tensor and a 2D tensor"
   ]
  }
 ],
 "metadata": {
  "kernelspec": {
   "display_name": "Python 3 (ipykernel)",
   "language": "python",
   "name": "python3"
  },
  "language_info": {
   "codemirror_mode": {
    "name": "ipython",
    "version": 3
   },
   "file_extension": ".py",
   "mimetype": "text/x-python",
   "name": "python",
   "nbconvert_exporter": "python",
   "pygments_lexer": "ipython3",
   "version": "3.8.5"
  }
 },
 "nbformat": 4,
 "nbformat_minor": 5
}
