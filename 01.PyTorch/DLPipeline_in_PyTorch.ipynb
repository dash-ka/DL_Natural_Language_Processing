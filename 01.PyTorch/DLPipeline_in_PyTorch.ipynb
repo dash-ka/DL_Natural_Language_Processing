{
 "cells": [
  {
   "cell_type": "markdown",
   "id": "f2f38499",
   "metadata": {},
   "source": [
    "# Working with Data"
   ]
  },
  {
   "cell_type": "code",
   "execution_count": 1,
   "id": "d49ebae7",
   "metadata": {},
   "outputs": [],
   "source": [
    "import torch"
   ]
  },
  {
   "cell_type": "markdown",
   "id": "95a99f73",
   "metadata": {},
   "source": [
    "## Dataset"
   ]
  },
  {
   "cell_type": "code",
   "execution_count": 2,
   "id": "fae4cad0",
   "metadata": {},
   "outputs": [],
   "source": [
    "from torch.utils.data import Dataset, DataLoader"
   ]
  },
  {
   "cell_type": "code",
   "execution_count": 3,
   "id": "83dc36ba",
   "metadata": {},
   "outputs": [],
   "source": [
    "inputs = torch.rand(5, 8)                        # 5 examples with 8 features each\n",
    "targets = torch.tensor([1, 1, 1, 0, 0])          # a binary class for each of 5 examples"
   ]
  },
  {
   "cell_type": "code",
   "execution_count": 4,
   "id": "6bf2934b",
   "metadata": {},
   "outputs": [
    {
     "data": {
      "text/plain": [
       "tensor([[0.9078, 0.8158, 0.0751, 0.6673, 0.9645, 0.4584, 0.2770, 0.4203],\n",
       "        [0.7066, 0.2162, 0.6203, 0.0974, 0.4527, 0.4128, 0.6775, 0.3781],\n",
       "        [0.7157, 0.3780, 0.5939, 0.6088, 0.2390, 0.0340, 0.2930, 0.6055],\n",
       "        [0.6640, 0.7359, 0.6051, 0.8587, 0.4969, 0.7759, 0.1938, 0.6143],\n",
       "        [0.8989, 0.1281, 0.3761, 0.2822, 0.8641, 0.8334, 0.3186, 0.3283]])"
      ]
     },
     "execution_count": 4,
     "metadata": {},
     "output_type": "execute_result"
    }
   ],
   "source": [
    "inputs"
   ]
  },
  {
   "cell_type": "code",
   "execution_count": 5,
   "id": "0cb427df",
   "metadata": {},
   "outputs": [
    {
     "data": {
      "text/plain": [
       "tensor([1, 1, 1, 0, 0])"
      ]
     },
     "execution_count": 5,
     "metadata": {},
     "output_type": "execute_result"
    }
   ],
   "source": [
    "targets # 1:\"pos\", 0:\"neg\""
   ]
  },
  {
   "cell_type": "code",
   "execution_count": 6,
   "id": "7170dbab",
   "metadata": {},
   "outputs": [],
   "source": [
    "# A custom Dataset class must implement three functions: __init__, __len__, and __getitem__.\n",
    "\n",
    "class ReviewsDataset(Dataset):\n",
    "\n",
    "    def __init__(self, inputs, targets):\n",
    "        \"\"\" The __init__ function is run once when instantiating the Dataset object. \"\"\"\n",
    "        \n",
    "        super().__init__()\n",
    "        self.reviews = inputs\n",
    "        self.labels = targets\n",
    "        \n",
    "    def __len__(self):\n",
    "        \"\"\" The __len__ function returns the number of samples in our dataset. \"\"\"\n",
    "        \n",
    "        return len(self.reviews)\n",
    "    \n",
    "    def __getitem__(self, index):\n",
    "        \"\"\" Returns the tuple of feature tensor and the corresponding label for a given index.\"\"\"\n",
    "        review = self.reviews[index]\n",
    "        label = self.labels[index]\n",
    "        return review, label"
   ]
  },
  {
   "cell_type": "code",
   "execution_count": 7,
   "id": "e330395d",
   "metadata": {},
   "outputs": [],
   "source": [
    "dataset = ReviewsDataset(inputs, targets)"
   ]
  },
  {
   "cell_type": "code",
   "execution_count": 8,
   "id": "b410671c",
   "metadata": {},
   "outputs": [
    {
     "data": {
      "text/plain": [
       "tensor([[0.9078, 0.8158, 0.0751, 0.6673, 0.9645, 0.4584, 0.2770, 0.4203],\n",
       "        [0.7066, 0.2162, 0.6203, 0.0974, 0.4527, 0.4128, 0.6775, 0.3781],\n",
       "        [0.7157, 0.3780, 0.5939, 0.6088, 0.2390, 0.0340, 0.2930, 0.6055],\n",
       "        [0.6640, 0.7359, 0.6051, 0.8587, 0.4969, 0.7759, 0.1938, 0.6143],\n",
       "        [0.8989, 0.1281, 0.3761, 0.2822, 0.8641, 0.8334, 0.3186, 0.3283]])"
      ]
     },
     "execution_count": 8,
     "metadata": {},
     "output_type": "execute_result"
    }
   ],
   "source": [
    "dataset.reviews"
   ]
  },
  {
   "cell_type": "code",
   "execution_count": 9,
   "id": "1c034dc7",
   "metadata": {},
   "outputs": [
    {
     "data": {
      "text/plain": [
       "tensor([1, 1, 1, 0, 0])"
      ]
     },
     "execution_count": 9,
     "metadata": {},
     "output_type": "execute_result"
    }
   ],
   "source": [
    "dataset.labels"
   ]
  },
  {
   "cell_type": "code",
   "execution_count": 10,
   "id": "f2605a42",
   "metadata": {},
   "outputs": [
    {
     "data": {
      "text/plain": [
       "5"
      ]
     },
     "execution_count": 10,
     "metadata": {},
     "output_type": "execute_result"
    }
   ],
   "source": [
    "# number of training examples in the dataseet\n",
    "len(dataset)"
   ]
  },
  {
   "cell_type": "code",
   "execution_count": 11,
   "id": "d687d48a",
   "metadata": {},
   "outputs": [
    {
     "data": {
      "text/plain": [
       "(tensor([0.8989, 0.1281, 0.3761, 0.2822, 0.8641, 0.8334, 0.3186, 0.3283]),\n",
       " tensor(0))"
      ]
     },
     "execution_count": 11,
     "metadata": {},
     "output_type": "execute_result"
    }
   ],
   "source": [
    "# retrieve training examples by index\n",
    "dataset[4]"
   ]
  },
  {
   "cell_type": "code",
   "execution_count": 12,
   "id": "c950eb9f",
   "metadata": {},
   "outputs": [
    {
     "name": "stdout",
     "output_type": "stream",
     "text": [
      "tensor([0.9078, 0.8158, 0.0751, 0.6673, 0.9645, 0.4584, 0.2770, 0.4203]) tensor(1)\n",
      "tensor([0.7066, 0.2162, 0.6203, 0.0974, 0.4527, 0.4128, 0.6775, 0.3781]) tensor(1)\n",
      "tensor([0.7157, 0.3780, 0.5939, 0.6088, 0.2390, 0.0340, 0.2930, 0.6055]) tensor(1)\n",
      "tensor([0.6640, 0.7359, 0.6051, 0.8587, 0.4969, 0.7759, 0.1938, 0.6143]) tensor(0)\n",
      "tensor([0.8989, 0.1281, 0.3761, 0.2822, 0.8641, 0.8334, 0.3186, 0.3283]) tensor(0)\n"
     ]
    }
   ],
   "source": [
    "# iterating over training examples\n",
    "for (feature_tensor, label) in dataset:\n",
    "    print(feature_tensor, label)"
   ]
  },
  {
   "cell_type": "markdown",
   "id": "125b619e",
   "metadata": {},
   "source": [
    "## DataLoader"
   ]
  },
  {
   "cell_type": "markdown",
   "id": "436a44df",
   "metadata": {},
   "source": [
    "The Dataset retrieves our dataset’s features and labels one sample at a time.\\\n",
    "While training a model, we typically want to pass samples in “minibatches” and reshuffle the data at every epoch to reduce model overfitting.\\\n",
    "We can abstract this functionality with DataLoader object."
   ]
  },
  {
   "cell_type": "code",
   "execution_count": null,
   "id": "1eece1a8",
   "metadata": {},
   "outputs": [],
   "source": [
    "from torch.utils.data import DataLoader"
   ]
  },
  {
   "cell_type": "code",
   "execution_count": 13,
   "id": "db315920",
   "metadata": {},
   "outputs": [],
   "source": [
    "batch_generator = DataLoader(dataset, batch_size=2, shuffle=True, drop_last=True)"
   ]
  },
  {
   "cell_type": "code",
   "execution_count": 14,
   "id": "fbd4ec9f",
   "metadata": {},
   "outputs": [
    {
     "name": "stdout",
     "output_type": "stream",
     "text": [
      "Inputs: tensor([[0.7066, 0.2162, 0.6203, 0.0974, 0.4527, 0.4128, 0.6775, 0.3781],\n",
      "        [0.7157, 0.3780, 0.5939, 0.6088, 0.2390, 0.0340, 0.2930, 0.6055]])\n",
      "Targets: tensor([1, 1])\n",
      "\n"
     ]
    }
   ],
   "source": [
    "for batch in batch_generator:\n",
    "    inputs, targets = batch\n",
    "    print(\"Inputs:\", inputs)\n",
    "    print(\"Targets:\", targets)\n",
    "    print()\n",
    "    break"
   ]
  },
  {
   "cell_type": "code",
   "execution_count": null,
   "id": "36f4d942",
   "metadata": {},
   "outputs": [],
   "source": []
  },
  {
   "cell_type": "code",
   "execution_count": null,
   "id": "58f308bd",
   "metadata": {},
   "outputs": [],
   "source": []
  },
  {
   "cell_type": "code",
   "execution_count": null,
   "id": "8faa63b1",
   "metadata": {},
   "outputs": [],
   "source": [
    "import pandas as pd\n",
    "data = pd.read_csv(r\"C:\\Users\\dashb\\Downloads\\Information retrieval\\Taxonomy_Textual_Entailment_PAPERS\\LAZY\\reviews_with_splits_lite.csv\") "
   ]
  },
  {
   "cell_type": "code",
   "execution_count": null,
   "id": "5df08c35",
   "metadata": {},
   "outputs": [],
   "source": [
    "data.head()"
   ]
  },
  {
   "cell_type": "code",
   "execution_count": null,
   "id": "4916e31d",
   "metadata": {},
   "outputs": [],
   "source": [
    "data.review.values"
   ]
  },
  {
   "cell_type": "code",
   "execution_count": null,
   "id": "cdc87e54",
   "metadata": {},
   "outputs": [],
   "source": [
    "import re, torch\n",
    "\n",
    "def tokenizer(text):\n",
    "    \"\"\"Removing punctuation and special symbols from review text\"\"\"\n",
    "    \n",
    "    clean_text = re.sub(\"[^a-zA-Z]+\", \" \", text).lower()\n",
    "    return clean_text.split() # list of tokens\n",
    "\n",
    "\n",
    "def vectorize(tokenized_review, dictionary):\n",
    "    # takes a tokenized review and return a vectorized review\n",
    "    \"\"\"\n",
    "    Creates a collapsed one-hot tensor for a single text review.\n",
    "    \n",
    "    Args:\n",
    "        tokenized_review (List[str]): a list of tokens\n",
    "    Returns:\n",
    "        one_hot_tensor (torch.FloatTensor): collapsed one-hot representation of a review\n",
    "    \"\"\"\n",
    "    indexes_list = dictionary.doc2idx(tokenized_review)\n",
    "    one_hot_vector = torch.zeros(len(dictionary), dtype=torch.float32)\n",
    "    for token_index in indexes_list:\n",
    "        one_hot_vector[token_index] = 1\n",
    "    return one_hot_vector"
   ]
  },
  {
   "cell_type": "markdown",
   "id": "67b8b58b",
   "metadata": {},
   "source": [
    "### Example"
   ]
  },
  {
   "cell_type": "code",
   "execution_count": null,
   "id": "1250b513",
   "metadata": {},
   "outputs": [],
   "source": [
    "sample_review = \"I am a big gelato fan!\""
   ]
  },
  {
   "cell_type": "code",
   "execution_count": null,
   "id": "0f42f1ef",
   "metadata": {},
   "outputs": [],
   "source": [
    "tokenized_review = tokenizer(sample_review)\n",
    "tokenized_review"
   ]
  },
  {
   "cell_type": "code",
   "execution_count": null,
   "id": "0e45c1ea",
   "metadata": {},
   "outputs": [],
   "source": [
    "from gensim.corpora import Dictionary\n",
    "dictionary = Dictionary(tokenizer(review) for review in data.review.values)"
   ]
  },
  {
   "cell_type": "code",
   "execution_count": null,
   "id": "b40f9d30",
   "metadata": {},
   "outputs": [],
   "source": [
    "len(dictionary) # number of unique words in your vocabulary"
   ]
  },
  {
   "cell_type": "code",
   "execution_count": null,
   "id": "b644b53c",
   "metadata": {},
   "outputs": [],
   "source": [
    "# mapping of token to an integer id\n",
    "dictionary.token2id"
   ]
  },
  {
   "cell_type": "code",
   "execution_count": null,
   "id": "18547ae6",
   "metadata": {},
   "outputs": [],
   "source": [
    "# Convert document (a list of words) into a list of indexes\n",
    "dictionary.doc2idx([\"i\", \"am\", \"a\", \"big\", \"gelato\", \"fan\", \"!\"])"
   ]
  },
  {
   "cell_type": "code",
   "execution_count": null,
   "id": "379d7ed7",
   "metadata": {},
   "outputs": [],
   "source": [
    "# check the indexes assigned to 1\n",
    "vectorize(tokenized_review, dictionary)#.nonzero()"
   ]
  },
  {
   "cell_type": "code",
   "execution_count": null,
   "id": "e1f84ef2",
   "metadata": {},
   "outputs": [],
   "source": [
    "class CustomDataset(Dataset):\n",
    "\n",
    "    def __init__(self, documents):\n",
    "        \n",
    "        self.reviews = []\n",
    "        self.labels = []\n",
    "        \n",
    "        for _, row in documents.iterrows():\n",
    "            self.reviews.append(tokenizer(row.review))\n",
    "            self.labels.append(1 if row.rating == \"positive\" else 0)\n",
    "            \n",
    "        self.dictionary = Dictionary(self.reviews)\n",
    "        \n",
    "    def __len__(self):\n",
    "        return len(self.reviews)\n",
    "    \n",
    "    def __getitem__(self, index):\n",
    "        features = vectorize(self.reviews[index], self.dictionary) \n",
    "        label = torch.tensor(self.labels[index])\n",
    "        return features, label"
   ]
  },
  {
   "cell_type": "code",
   "execution_count": null,
   "id": "d69f9374",
   "metadata": {
    "slideshow": {
     "slide_type": "subslide"
    }
   },
   "outputs": [],
   "source": [
    "dataset = CustomDataset(data)"
   ]
  },
  {
   "cell_type": "code",
   "execution_count": null,
   "id": "a08a6f01",
   "metadata": {},
   "outputs": [],
   "source": [
    "set(dataset.labels)"
   ]
  },
  {
   "cell_type": "code",
   "execution_count": null,
   "id": "bbfe482d",
   "metadata": {},
   "outputs": [],
   "source": [
    "len(dataset.dictionary) "
   ]
  },
  {
   "cell_type": "code",
   "execution_count": null,
   "id": "93bbf3b7",
   "metadata": {},
   "outputs": [],
   "source": [
    "dataset[2]"
   ]
  },
  {
   "cell_type": "code",
   "execution_count": null,
   "id": "0be7893d",
   "metadata": {},
   "outputs": [],
   "source": []
  },
  {
   "cell_type": "code",
   "execution_count": null,
   "id": "0ef1afc9",
   "metadata": {},
   "outputs": [],
   "source": []
  },
  {
   "cell_type": "code",
   "execution_count": null,
   "id": "9765dd19",
   "metadata": {},
   "outputs": [],
   "source": []
  },
  {
   "cell_type": "code",
   "execution_count": null,
   "id": "a28d1ab9",
   "metadata": {},
   "outputs": [],
   "source": []
  },
  {
   "cell_type": "markdown",
   "id": "56e30646",
   "metadata": {},
   "source": [
    "# nn.Module\n",
    "\n",
    "How to use the predefined layers in PyTorch"
   ]
  },
  {
   "cell_type": "code",
   "execution_count": 15,
   "id": "1d1e7f08",
   "metadata": {},
   "outputs": [],
   "source": [
    "import torch.nn as nn"
   ]
  },
  {
   "cell_type": "code",
   "execution_count": 45,
   "id": "a443a197",
   "metadata": {},
   "outputs": [],
   "source": [
    "# initialize a linear layer\n",
    "linear_layer = nn.Linear(in_features=8, out_features=3)"
   ]
  },
  {
   "cell_type": "code",
   "execution_count": 46,
   "id": "41e44ec2",
   "metadata": {},
   "outputs": [
    {
     "data": {
      "text/plain": [
       "Parameter containing:\n",
       "tensor([[-0.1989,  0.2530,  0.2782,  0.0793,  0.0021,  0.0763,  0.2892, -0.2072],\n",
       "        [ 0.2073, -0.0824,  0.1744, -0.0292,  0.1567, -0.0249,  0.2070,  0.2197],\n",
       "        [-0.2447,  0.3461, -0.0079, -0.1518, -0.2538, -0.0242,  0.0230,  0.3271]],\n",
       "       requires_grad=True)"
      ]
     },
     "execution_count": 46,
     "metadata": {},
     "output_type": "execute_result"
    }
   ],
   "source": [
    "# accessing weight marix\n",
    "linear_layer.weight"
   ]
  },
  {
   "cell_type": "code",
   "execution_count": 47,
   "id": "b3990d0d",
   "metadata": {},
   "outputs": [
    {
     "data": {
      "text/plain": [
       "{'weight': Parameter containing:\n",
       " tensor([[-0.1989,  0.2530,  0.2782,  0.0793,  0.0021,  0.0763,  0.2892, -0.2072],\n",
       "         [ 0.2073, -0.0824,  0.1744, -0.0292,  0.1567, -0.0249,  0.2070,  0.2197],\n",
       "         [-0.2447,  0.3461, -0.0079, -0.1518, -0.2538, -0.0242,  0.0230,  0.3271]],\n",
       "        requires_grad=True),\n",
       " 'bias': Parameter containing:\n",
       " tensor([-0.1301, -0.0660, -0.0770], requires_grad=True)}"
      ]
     },
     "execution_count": 47,
     "metadata": {},
     "output_type": "execute_result"
    }
   ],
   "source": [
    "# accessing parameters by name:\n",
    "dict(linear_layer.named_parameters())"
   ]
  },
  {
   "cell_type": "code",
   "execution_count": 19,
   "id": "caeaea1f",
   "metadata": {},
   "outputs": [
    {
     "data": {
      "text/plain": [
       "torch.Size([1, 8])"
      ]
     },
     "execution_count": 19,
     "metadata": {},
     "output_type": "execute_result"
    }
   ],
   "source": [
    "# check the shape of weight matrix\n",
    "linear_layer.weight.shape"
   ]
  },
  {
   "cell_type": "code",
   "execution_count": 48,
   "id": "bbdedc14",
   "metadata": {},
   "outputs": [
    {
     "data": {
      "text/plain": [
       "tensor([-0.2010, -1.2905,  0.4083], grad_fn=<AddBackward0>)"
      ]
     },
     "execution_count": 48,
     "metadata": {},
     "output_type": "execute_result"
    }
   ],
   "source": [
    "# call the layer directly on input tensor\n",
    "linear_layer(torch.randn(8))"
   ]
  },
  {
   "cell_type": "code",
   "execution_count": 49,
   "id": "7e1bb8ab",
   "metadata": {},
   "outputs": [
    {
     "data": {
      "text/plain": [
       "tensor([0.1192, 0.8176])"
      ]
     },
     "execution_count": 49,
     "metadata": {},
     "output_type": "execute_result"
    }
   ],
   "source": [
    "torch.sigmoid(torch.tensor([-2, 1.5]))"
   ]
  },
  {
   "cell_type": "code",
   "execution_count": null,
   "id": "3643e81c",
   "metadata": {},
   "outputs": [],
   "source": [
    "activation = torch.Sigmoid()"
   ]
  },
  {
   "cell_type": "markdown",
   "id": "54913acd",
   "metadata": {},
   "source": [
    "## Building your neural network"
   ]
  },
  {
   "cell_type": "code",
   "execution_count": null,
   "id": "038ef56e",
   "metadata": {},
   "outputs": [],
   "source": [
    "# Building your network: stack PyTorch layers inside your network object"
   ]
  },
  {
   "cell_type": "code",
   "execution_count": 23,
   "id": "8c9f9a97",
   "metadata": {},
   "outputs": [],
   "source": [
    "class NeuralModel(nn.Module):\n",
    "    \n",
    "    \"\"\"Single-layer neural network with a sigmoid activation.\"\"\"\n",
    "    \n",
    "    def __init__(self, num_features):\n",
    "        super().__init__()\n",
    "        # define layers of your Neural Network\n",
    "        \n",
    "        self.linear_layer  = nn.Linear(in_features = num_features, out_features = 1)\n",
    "        self.activation = nn.Sigmoid()\n",
    "        \n",
    "    def forward(self, inputs):\n",
    "        output = self.linear_layer(inputs)\n",
    "        probabilities = self.activation(output)\n",
    "        return probabilities"
   ]
  },
  {
   "cell_type": "code",
   "execution_count": 24,
   "id": "3b5ef0f2",
   "metadata": {},
   "outputs": [],
   "source": [
    "# instantiate the model\n",
    "model = NeuralModel(inputs.shape[1])"
   ]
  },
  {
   "cell_type": "code",
   "execution_count": 25,
   "id": "62c1e3c6",
   "metadata": {},
   "outputs": [
    {
     "name": "stdout",
     "output_type": "stream",
     "text": [
      "Model architecture: NeuralModel(\n",
      "  (linear_layer): Linear(in_features=8, out_features=1, bias=True)\n",
      "  (activation): Sigmoid()\n",
      ")\n"
     ]
    }
   ],
   "source": [
    "print(\"Model architecture:\", model)"
   ]
  },
  {
   "cell_type": "code",
   "execution_count": 26,
   "id": "226cac9e",
   "metadata": {},
   "outputs": [
    {
     "data": {
      "text/plain": [
       "{'linear_layer.weight': Parameter containing:\n",
       " tensor([[0.3245, 0.0181, 0.1568, 0.2189, 0.0286, 0.1688, 0.0049, 0.3388]],\n",
       "        requires_grad=True),\n",
       " 'linear_layer.bias': Parameter containing:\n",
       " tensor([0.0487], requires_grad=True)}"
      ]
     },
     "execution_count": 26,
     "metadata": {},
     "output_type": "execute_result"
    }
   ],
   "source": [
    "dict(model.named_parameters())"
   ]
  },
  {
   "cell_type": "markdown",
   "id": "20540daa",
   "metadata": {},
   "source": [
    "<h6 style=\"text-align\"><b> Forward pass</b>"
   ]
  },
  {
   "cell_type": "code",
   "execution_count": 27,
   "id": "643642bd",
   "metadata": {},
   "outputs": [
    {
     "data": {
      "text/plain": [
       "tensor([[0.6490],\n",
       "        [0.6755]], grad_fn=<SigmoidBackward0>)"
      ]
     },
     "execution_count": 27,
     "metadata": {},
     "output_type": "execute_result"
    }
   ],
   "source": [
    "model(inputs)"
   ]
  },
  {
   "cell_type": "code",
   "execution_count": null,
   "id": "089122e4",
   "metadata": {},
   "outputs": [],
   "source": []
  },
  {
   "cell_type": "code",
   "execution_count": null,
   "id": "0063665d",
   "metadata": {},
   "outputs": [],
   "source": []
  },
  {
   "cell_type": "markdown",
   "id": "62550f26",
   "metadata": {},
   "source": [
    "##  Train your NN "
   ]
  },
  {
   "cell_type": "code",
   "execution_count": 28,
   "id": "06dca5a3",
   "metadata": {},
   "outputs": [],
   "source": [
    "# Choose the loss function\n",
    "loss_function = nn.BCELoss()"
   ]
  },
  {
   "cell_type": "code",
   "execution_count": 29,
   "id": "f73e521a",
   "metadata": {},
   "outputs": [
    {
     "data": {
      "text/plain": [
       "tensor(0.6932)"
      ]
     },
     "execution_count": 29,
     "metadata": {},
     "output_type": "execute_result"
    }
   ],
   "source": [
    "# example of usage\n",
    "prediction = torch.rand(3)\n",
    "target = torch.ones(3).to(torch.float)\n",
    "loss_function(prediction, target)"
   ]
  },
  {
   "cell_type": "code",
   "execution_count": 30,
   "id": "b0e2457f",
   "metadata": {},
   "outputs": [
    {
     "data": {
      "text/plain": [
       "['ASGD',\n",
       " 'Adadelta',\n",
       " 'Adagrad',\n",
       " 'Adam',\n",
       " 'AdamW',\n",
       " 'Adamax',\n",
       " 'LBFGS',\n",
       " 'NAdam',\n",
       " 'Optimizer',\n",
       " 'RAdam']"
      ]
     },
     "execution_count": 30,
     "metadata": {},
     "output_type": "execute_result"
    }
   ],
   "source": [
    "from torch import optim\n",
    "dir(optim)[:10]"
   ]
  },
  {
   "cell_type": "code",
   "execution_count": 31,
   "id": "e0f149b5",
   "metadata": {},
   "outputs": [],
   "source": [
    "# Choose the optimizer\n",
    "optimizer = optim.Adam(model.parameters())"
   ]
  },
  {
   "cell_type": "markdown",
   "id": "99fd9dd7",
   "metadata": {},
   "source": [
    "<h6 style=\"text-align\"><b> Take a single training step</b>"
   ]
  },
  {
   "cell_type": "code",
   "execution_count": 32,
   "id": "9a868942",
   "metadata": {},
   "outputs": [
    {
     "data": {
      "text/plain": [
       "(tensor([0.9078, 0.8158, 0.0751, 0.6673, 0.9645, 0.4584, 0.2770, 0.4203]),\n",
       " tensor(1))"
      ]
     },
     "execution_count": 32,
     "metadata": {},
     "output_type": "execute_result"
    }
   ],
   "source": [
    "# Step 0. Get a single training example\n",
    "inputs, target = dataset[0]\n",
    "inputs, target"
   ]
  },
  {
   "cell_type": "code",
   "execution_count": 33,
   "id": "b55a51f8",
   "metadata": {},
   "outputs": [
    {
     "data": {
      "text/plain": [
       "tensor([0.6824], grad_fn=<SigmoidBackward0>)"
      ]
     },
     "execution_count": 33,
     "metadata": {},
     "output_type": "execute_result"
    }
   ],
   "source": [
    "# Step 1. Make the prediction\n",
    "prediction = model(inputs)\n",
    "prediction "
   ]
  },
  {
   "cell_type": "code",
   "execution_count": 34,
   "id": "75995277",
   "metadata": {},
   "outputs": [
    {
     "data": {
      "text/plain": [
       "tensor(1)"
      ]
     },
     "execution_count": 34,
     "metadata": {},
     "output_type": "execute_result"
    }
   ],
   "source": [
    "target"
   ]
  },
  {
   "cell_type": "code",
   "execution_count": 35,
   "id": "eeedbbd0",
   "metadata": {},
   "outputs": [
    {
     "data": {
      "text/plain": [
       "tensor(0.3822, grad_fn=<BinaryCrossEntropyBackward0>)"
      ]
     },
     "execution_count": 35,
     "metadata": {},
     "output_type": "execute_result"
    }
   ],
   "source": [
    "# Step 2. Compute prediction error\n",
    "error = loss_function(prediction.squeeze(), target.to(torch.float))\n",
    "error"
   ]
  },
  {
   "cell_type": "code",
   "execution_count": 36,
   "id": "03bc3f15",
   "metadata": {},
   "outputs": [],
   "source": [
    "# Step 3. Propagate the error signal backward\n",
    "error.backward()"
   ]
  },
  {
   "cell_type": "code",
   "execution_count": 37,
   "id": "eff77cb5",
   "metadata": {},
   "outputs": [
    {
     "data": {
      "text/plain": [
       "tensor([[-0.2884, -0.2591, -0.0239, -0.2120, -0.3064, -0.1456, -0.0880, -0.1335]])"
      ]
     },
     "execution_count": 37,
     "metadata": {},
     "output_type": "execute_result"
    }
   ],
   "source": [
    "model.linear_layer.weight.grad"
   ]
  },
  {
   "cell_type": "code",
   "execution_count": 38,
   "id": "8cb80bd9",
   "metadata": {},
   "outputs": [],
   "source": [
    "# Step 4. Use optimizer to take the optimization step, i.e. update weights and biases of your model\n",
    "optimizer.step()"
   ]
  },
  {
   "cell_type": "code",
   "execution_count": 39,
   "id": "c15b9831",
   "metadata": {},
   "outputs": [],
   "source": [
    "# Step 5. Clear the gradients on weights and biases, otherwise they cumulate across iterations\n",
    "optimizer.zero_grad()"
   ]
  },
  {
   "cell_type": "code",
   "execution_count": 40,
   "id": "dc28a32c",
   "metadata": {},
   "outputs": [
    {
     "data": {
      "text/plain": [
       "tensor([[0., 0., 0., 0., 0., 0., 0., 0.]])"
      ]
     },
     "execution_count": 40,
     "metadata": {},
     "output_type": "execute_result"
    }
   ],
   "source": [
    "model.linear_layer.weight.grad"
   ]
  },
  {
   "cell_type": "code",
   "execution_count": null,
   "id": "1094e944",
   "metadata": {},
   "outputs": [],
   "source": [
    "num_epochs = 10\n",
    "\n",
    "for epoch in range(num_epochs):\n",
    "    \n",
    "    # training  loop\n",
    "    model.train()\n",
    "    \n",
    "    for inputs, targets in batch_generator:\n",
    "        # 1. Generate predictions\n",
    "        predictions = model(inputs).squeeze()\n",
    "        # 2. Calculate loss\n",
    "        loss = loss_function(predictions, targets.to(torch.float))\n",
    "        # 3. Compute gradients\n",
    "        loss.backward()\n",
    "        # 4. Update parameters using gradients\n",
    "        optimizer.step()\n",
    "        # 5. Reset the gradients to zero\n",
    "        optimizer.zero_grad() \n",
    "        if epoch % 5==0:\n",
    "            print(f'Epoch {epoch} Loss {loss.item():.4f}')\n",
    "            \n",
    "    # validation loop\n",
    "    model.eval()\n",
    "    \n",
    "    for inputs, targets in eval_generator:\n",
    "        \n",
    "        # stop the gradient tracking with torch.no_grad() context manager\n",
    "        with torch.no_grad():\n",
    "            # 1. Generate predictions\n",
    "            predictions = model(inputs).squeeze()\n",
    "            # 2. Calculate loss\n",
    "            loss = loss_function(predictions, targets.to(torch.float))\n",
    "            # 6. Reporting\n",
    "            if epoch % 5==0:\n",
    "                print(f'Epoch {epoch} Loss {loss.item():.4f}')"
   ]
  },
  {
   "cell_type": "code",
   "execution_count": null,
   "id": "95ea6478",
   "metadata": {},
   "outputs": [],
   "source": []
  },
  {
   "cell_type": "markdown",
   "id": "2de35d72",
   "metadata": {},
   "source": [
    "### Saving and Loading your model"
   ]
  },
  {
   "cell_type": "code",
   "execution_count": null,
   "id": "bc74ce11",
   "metadata": {},
   "outputs": [],
   "source": [
    "torch.save(model.state_dict(), \"model_params.pt\")"
   ]
  },
  {
   "cell_type": "code",
   "execution_count": 41,
   "id": "1be4a370",
   "metadata": {},
   "outputs": [
    {
     "data": {
      "text/plain": [
       "{'linear_layer.weight': tensor([[0.3255, 0.0191, 0.1578, 0.2199, 0.0296, 0.1698, 0.0059, 0.3398]]),\n",
       " 'linear_layer.bias': tensor([0.0497])}"
      ]
     },
     "execution_count": 41,
     "metadata": {},
     "output_type": "execute_result"
    }
   ],
   "source": [
    "dict(model.state_dict())"
   ]
  },
  {
   "cell_type": "code",
   "execution_count": null,
   "id": "66b83f81",
   "metadata": {},
   "outputs": [],
   "source": [
    "# create the model architecture first, then load parameters\n",
    "model.load_state_dict(torch.load(\"model_params.pt\"))"
   ]
  },
  {
   "cell_type": "code",
   "execution_count": null,
   "id": "f8a4493c",
   "metadata": {},
   "outputs": [],
   "source": [
    "model.linear_layer.weight"
   ]
  }
 ],
 "metadata": {
  "kernelspec": {
   "display_name": "Python 3 (ipykernel)",
   "language": "python",
   "name": "python3"
  },
  "language_info": {
   "codemirror_mode": {
    "name": "ipython",
    "version": 3
   },
   "file_extension": ".py",
   "mimetype": "text/x-python",
   "name": "python",
   "nbconvert_exporter": "python",
   "pygments_lexer": "ipython3",
   "version": "3.8.5"
  }
 },
 "nbformat": 4,
 "nbformat_minor": 5
}
